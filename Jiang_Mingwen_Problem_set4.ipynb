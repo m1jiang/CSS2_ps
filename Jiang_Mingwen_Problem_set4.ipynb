{
  "nbformat": 4,
  "nbformat_minor": 0,
  "metadata": {
    "colab": {
      "name": "Jiang_Mingwen_Problem_set4.ipynb",
      "provenance": [],
      "collapsed_sections": []
    },
    "kernelspec": {
      "name": "python3",
      "display_name": "Python 3"
    },
    "language_info": {
      "name": "python"
    }
  },
  "cells": [
    {
      "cell_type": "markdown",
      "metadata": {
        "id": "iaGmkla5juWo"
      },
      "source": [
        "# Imports"
      ]
    },
    {
      "cell_type": "code",
      "metadata": {
        "id": "VVG2EiFcjxJY"
      },
      "source": [
        "import pandas as pd\n",
        "import numpy as np"
      ],
      "execution_count": 1,
      "outputs": []
    },
    {
      "cell_type": "code",
      "metadata": {
        "id": "marrBUFdj0gz"
      },
      "source": [
        "import requests\n",
        "from bs4 import BeautifulSoup"
      ],
      "execution_count": 8,
      "outputs": []
    },
    {
      "cell_type": "markdown",
      "metadata": {
        "id": "Iaonf-Gkk8LW"
      },
      "source": [
        "# My function\n"
      ]
    },
    {
      "cell_type": "code",
      "metadata": {
        "id": "05dMFxLkk-D7"
      },
      "source": [
        "url = 'https://weather.com/weather/today/l/92122:4:US'"
      ],
      "execution_count": 6,
      "outputs": []
    },
    {
      "cell_type": "code",
      "metadata": {
        "id": "xxAkX9YzlG8w"
      },
      "source": [
        "#get the content\n",
        "response = requests.get(url)\n",
        "soup = BeautifulSoup(response.content,'html.parser')"
      ],
      "execution_count": 9,
      "outputs": []
    },
    {
      "cell_type": "code",
      "metadata": {
        "colab": {
          "base_uri": "https://localhost:8080/"
        },
        "id": "eLmZFAcQAJyt",
        "outputId": "e18d0ea7-8a8c-4529-e561-eed8fcd6bc7e"
      },
      "source": [
        "#First using the sample url to find the class\n",
        "soup.find_all(class_='card')[1].h2"
      ],
      "execution_count": 304,
      "outputs": [
        {
          "output_type": "execute_result",
          "data": {
            "text/plain": [
              "<h2 class=\"Card--cardHeading--3et4e\">Today's Forecast for San Diego, CA</h2>"
            ]
          },
          "metadata": {
            "tags": []
          },
          "execution_count": 304
        }
      ]
    },
    {
      "cell_type": "code",
      "metadata": {
        "id": "nBNvMnEzvKG7"
      },
      "source": [
        "#defining the funciton\n",
        "\n",
        "def get_weather(zip):\n",
        "\n",
        "#prevent the code from malfunctioning\n",
        "  if str(zip).isdigit() and len(str(zip)) == 5 and int(zip)<99950:\n",
        "#get the url and content\n",
        "    res = requests.get('https://weather.com/weather/today/l/'+str(zip)+':4:US')\n",
        "    sou = BeautifulSoup(res.content,'html.parser')\n",
        "\n",
        "#sort through the text and find the city name and state\n",
        "    city = soup.find_all(class_='card')[1].h2\n",
        "    city_name = city.text\n",
        "\n",
        "#sort through the text and find the weather currently. I print out the prettiy text and then noticed that the temperature is in the span section. \n",
        "    tem = sou.find_all(class_='card')[0].span.text\n",
        "    result = city_name+', '+str(zip)+' in Fahrenheit is '+tem\n",
        "    \n",
        "  else:\n",
        "      result = 'Please input a valid zipcode'\n",
        "\n",
        "\n",
        "  return print(result)"
      ],
      "execution_count": 342,
      "outputs": []
    },
    {
      "cell_type": "markdown",
      "metadata": {
        "id": "ZecbfIVSCB_C"
      },
      "source": [
        "# Trying out my function"
      ]
    },
    {
      "cell_type": "code",
      "metadata": {
        "colab": {
          "base_uri": "https://localhost:8080/"
        },
        "id": "Q6xa5132CSHX",
        "outputId": "2909c9f6-a1ee-4e33-a863-2bdc538f8b3d"
      },
      "source": [
        "get_weather(92122)"
      ],
      "execution_count": 343,
      "outputs": [
        {
          "output_type": "stream",
          "text": [
            "Today's Forecast for San Diego, CA, 92122 in Fahrenheit is 53°\n"
          ],
          "name": "stdout"
        }
      ]
    },
    {
      "cell_type": "code",
      "metadata": {
        "colab": {
          "base_uri": "https://localhost:8080/"
        },
        "id": "keiKjstjCUMW",
        "outputId": "bc2d0d90-a394-4de2-94cd-b6a2e20f45b8"
      },
      "source": [
        "get_weather(str(92122))"
      ],
      "execution_count": 344,
      "outputs": [
        {
          "output_type": "stream",
          "text": [
            "Today's Forecast for San Diego, CA, 92122 in Fahrenheit is 53°\n"
          ],
          "name": "stdout"
        }
      ]
    },
    {
      "cell_type": "code",
      "metadata": {
        "colab": {
          "base_uri": "https://localhost:8080/"
        },
        "id": "5I4N9h4JCYcY",
        "outputId": "f7141dee-c3ca-4bfe-e6eb-4ba9d5f9f14f"
      },
      "source": [
        "get_weather(9212)"
      ],
      "execution_count": 345,
      "outputs": [
        {
          "output_type": "stream",
          "text": [
            "Please input a valid zipcode\n"
          ],
          "name": "stdout"
        }
      ]
    },
    {
      "cell_type": "code",
      "metadata": {
        "colab": {
          "base_uri": "https://localhost:8080/"
        },
        "id": "XiHnuXC8Caby",
        "outputId": "87418373-bb47-4be0-e423-9b29fab09f9a"
      },
      "source": [
        "get_weather(99999)"
      ],
      "execution_count": 346,
      "outputs": [
        {
          "output_type": "stream",
          "text": [
            "Please input a valid zipcode\n"
          ],
          "name": "stdout"
        }
      ]
    },
    {
      "cell_type": "code",
      "metadata": {
        "colab": {
          "base_uri": "https://localhost:8080/"
        },
        "id": "scxJDqgbCal4",
        "outputId": "b3c2802d-d68c-4eea-9816-f61111a655b5"
      },
      "source": [
        "get_weather(92328)"
      ],
      "execution_count": 347,
      "outputs": [
        {
          "output_type": "stream",
          "text": [
            "Today's Forecast for San Diego, CA, 92328 in Fahrenheit is 74°\n"
          ],
          "name": "stdout"
        }
      ]
    },
    {
      "cell_type": "code",
      "metadata": {
        "colab": {
          "base_uri": "https://localhost:8080/"
        },
        "id": "Rg5C3gtKCbPk",
        "outputId": "9a2999d0-40f2-4701-e513-09b5eb73d55b"
      },
      "source": [
        "get_weather('Hello, is this weather.com?')"
      ],
      "execution_count": 348,
      "outputs": [
        {
          "output_type": "stream",
          "text": [
            "Please input a valid zipcode\n"
          ],
          "name": "stdout"
        }
      ]
    },
    {
      "cell_type": "code",
      "metadata": {
        "id": "281o0GurC12t"
      },
      "source": [
        ""
      ],
      "execution_count": null,
      "outputs": []
    }
  ]
}