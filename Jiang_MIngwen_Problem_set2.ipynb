{
  "nbformat": 4,
  "nbformat_minor": 0,
  "metadata": {
    "colab": {
      "name": "Jiang_MIngwen_Problem_set2.ipynb",
      "provenance": [],
      "collapsed_sections": []
    },
    "kernelspec": {
      "name": "python3",
      "display_name": "Python 3"
    },
    "language_info": {
      "name": "python"
    }
  },
  "cells": [
    {
      "cell_type": "code",
      "metadata": {
        "id": "kdSwSU23CfK0"
      },
      "source": [
        "import numpy as np\n",
        "import pandas as pd\n",
        "import matplotlib.pyplot as plt"
      ],
      "execution_count": 2,
      "outputs": []
    },
    {
      "cell_type": "markdown",
      "metadata": {
        "id": "dLAqYHhqBFQ6"
      },
      "source": [
        "# graph"
      ]
    },
    {
      "cell_type": "code",
      "metadata": {
        "id": "e_gjLe6_CvhR"
      },
      "source": [
        "import seaborn as sns\n",
        "\n",
        "data = sns.load_dataset('anscombe')"
      ],
      "execution_count": 3,
      "outputs": []
    },
    {
      "cell_type": "code",
      "metadata": {
        "id": "lJIPXbFgAwAy"
      },
      "source": [
        "# divide the dataset into four parts\n",
        "dataset1 = data[data['dataset'] == 'I' ]\n",
        "dataset2 = data[data['dataset']=='II']\n",
        "dataset3 = data[data['dataset']=='III']\n",
        "dataset4 = data[data['dataset']=='IV']"
      ],
      "execution_count": 137,
      "outputs": []
    },
    {
      "cell_type": "code",
      "metadata": {
        "colab": {
          "base_uri": "https://localhost:8080/",
          "height": 297
        },
        "id": "nIFFgiSKDvil",
        "outputId": "f687d963-6ea9-488a-a7dc-87f241d302df"
      },
      "source": [
        "fig,axes = plt.subplots(nrows=2,ncols=2)\n",
        "for i in np.arange(0,2):\n",
        "  for j in np.arange(0,2):\n",
        "    axes[i,j].set_xlabel('X')\n",
        "    axes[i,j].set_ylabel(\"Y\")\n",
        "    axes[i,j].set_xlim([0,20])\n",
        "    axes[i,j].set_ylim([2,13])\n",
        "\n",
        "##plot each of the plots\n",
        "    if i ==0 and j ==0:\n",
        "      axes[i,j].plot(dataset1['x'],dataset1['y'],linestyle = '',marker = 'o',color = 'g')\n",
        "      axes[i,j].set_title('I')\n",
        "      axes[i,j].text(11,5.5,'x mean='+str(round(np.mean(dataset1['x']),1)),style = 'italic')\n",
        "      axes[i,j].text(11,4,'y mean='+str(round(np.mean(dataset1['y']),1)),style = 'italic')\n",
        "      axes[i,j].text(1,10.5,'x std='+str(round(np.std(dataset1['x']),1)),style = 'italic')\n",
        "      axes[i,j].text(1,9,'y std='+str(round(np.std(dataset1['y']),1)),style = 'italic')\n",
        "\n",
        "    elif i == 0 and j == 1:\n",
        "      axes[i,j].plot(dataset2['x'],dataset2['y'],linestyle = '',marker = 'o',color = 'r')\n",
        "      axes[i,j].set_title('II')\n",
        "      axes[i,j].text(11,5.5,'x mean='+str(round(np.mean(dataset2['x']),1)),style = 'italic')\n",
        "      axes[i,j].text(11,4,'y mean='+str(round(np.mean(dataset2['y']),1)),style = 'italic')\n",
        "      axes[i,j].text(1,10.5,'x std='+str(round(np.std(dataset2['x']),1)),style = 'italic')\n",
        "      axes[i,j].text(1,9,'y std='+str(round(np.std(dataset2['y']),1)),style = 'italic')\n",
        "\n",
        "    elif i ==1 and j == 0:\n",
        "      axes[i,j].plot(dataset3['x'],dataset3['y'],linestyle = '',marker = 'o',color = 'b')\n",
        "      axes[i,j].set_title('III')\n",
        "      axes[i,j].text(11,5.5,'x mean='+str(round(np.mean(dataset3['x']),1)),style = 'italic')\n",
        "      axes[i,j].text(11,4,'y mean='+str(round(np.mean(dataset3['y']),1)),style = 'italic')\n",
        "      axes[i,j].text(1,10.5,'x std='+str(round(np.std(dataset3['x']),1)),style = 'italic')\n",
        "      axes[i,j].text(1,9,'y std='+str(round(np.std(dataset3['y']),1)),style = 'italic')\n",
        "    elif i == 1 and j ==1:\n",
        "      axes[i,j].plot(dataset4['x'],dataset4['y'],linestyle = '',marker = 'o',color = 'y')\n",
        "      axes[i,j].set_title('IV')      \n",
        "      axes[i,j].text(11,5.5,'x mean='+str(round(np.mean(dataset4['x']),1)),style = 'italic')\n",
        "      axes[i,j].text(11,4,'y mean='+str(round(np.mean(dataset4['y']),1)),style = 'italic')\n",
        "      axes[i,j].text(1,10.5,'x std='+str(round(np.std(dataset4['x']),1)),style = 'italic')\n",
        "      axes[i,j].text(1,9,'y std='+str(round(np.std(dataset4['y']),1)),style = 'italic')\n",
        "\n",
        "\n",
        "\n",
        "axes.flatten()\n",
        "plt.tight_layout()"
      ],
      "execution_count": 136,
      "outputs": [
        {
          "output_type": "display_data",
          "data": {
            "image/png": "[encoded data removed]",
            "text/plain": [
              "<Figure size 432x288 with 4 Axes>"
            ]
          },
          "metadata": {
            "tags": [],
            "needs_background": "light"
          }
        }
      ]
    },
    {
      "cell_type": "markdown",
      "metadata": {
        "id": "nID3RcFRBAwd"
      },
      "source": [
        "# Save"
      ]
    },
    {
      "cell_type": "code",
      "metadata": {
        "id": "Ud7ACM3CB3x0"
      },
      "source": [
        "fig.savefig('fig')"
      ],
      "execution_count": 138,
      "outputs": []
    },
    {
      "cell_type": "code",
      "metadata": {
        "id": "PAwSd3LObk2x"
      },
      "source": [
        ""
      ],
      "execution_count": null,
      "outputs": []
    }
  ]
}