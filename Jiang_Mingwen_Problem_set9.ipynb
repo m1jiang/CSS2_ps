{
  "nbformat": 4,
  "nbformat_minor": 0,
  "metadata": {
    "colab": {
      "name": "Jiang_Mingwen_Problem_set9.ipynb",
      "provenance": [],
      "collapsed_sections": []
    },
    "kernelspec": {
      "name": "python3",
      "display_name": "Python 3"
    },
    "language_info": {
      "name": "python"
    }
  },
  "cells": [
    {
      "cell_type": "markdown",
      "metadata": {
        "id": "YXwodc55AOtN"
      },
      "source": [
        "# 1.Import"
      ]
    },
    {
      "cell_type": "code",
      "metadata": {
        "id": "_pduJKKGAUqA"
      },
      "source": [
        "import pandas as pd\n",
        "import numpy as np\n",
        "import seaborn as sns\n",
        "import matplotlib.pyplot as plt\n",
        "from sklearn.linear_model import LinearRegression \n",
        "data = sns.load_dataset('geyser')"
      ],
      "execution_count": 1,
      "outputs": []
    },
    {
      "cell_type": "markdown",
      "metadata": {
        "id": "zCEyVcTNA8dC"
      },
      "source": [
        "# 2.K-fold Cross Validaiton"
      ]
    },
    {
      "cell_type": "code",
      "metadata": {
        "id": "UIwf7J8gEiTA"
      },
      "source": [
        "def k_fold(X,y,n):\n",
        "\n",
        "  #create arrays to store testing results\n",
        "  training_score = []\n",
        "  testing_score = []\n",
        "\n",
        "  #n is the number og folds\n",
        "  for i in range(0,n):\n",
        "\n",
        "    #indexing into X to divide the X data with the number of data in each n folds\n",
        "    Xdivide = X[np.arange(i*int(data.shape[0]/n),i*int(data.shape[0]/n)+int(data.shape[0]/n))]\n",
        "    Xtest = Xdivide.reshape(Xdivide.shape[0],1)\n",
        "    #divide the rest of the data into the training set\n",
        "    Xrest  = np.concatenate((X[np.arange(0,i*int(data.shape[0]/n))],X[np.arange((((i+1)*int(data.shape[0]/n))+1),data.shape[0])]),axis=None)\n",
        "    #reshape the data after concatenating  \n",
        "    Xtrain = Xrest.reshape(Xrest.shape[0],1)\n",
        "    #do the same thing to y\n",
        "    ytest = y[np.arange(i*int(data.shape[0]/n),i*int(data.shape[0]/n)+int(data.shape[0]/n))]\n",
        "    ytrain =  np.concatenate((y[np.arange(0,i*int(data.shape[0]/n))],y[np.arange((((i+1)*int(data.shape[0]/n))+1),data.shape[0])]),axis=None)\n",
        "  \n",
        "    model = LinearRegression()\n",
        "    model = model.fit(Xtrain,ytrain)\n",
        "    \n",
        "    training_score.append(model.score(Xtrain,ytrain))\n",
        "    testing_score.append(model.score(Xtest,ytest))\n",
        "\n",
        "  print('The average is ' + str(np.mean(testing_score))+ 'when there are '+ str(n)+\" folds\")\n",
        "  print(\"The standard deviation is \" + str(np.std(testing_score))+'when there are '+ str(n)+\" folds\")\n"
      ],
      "execution_count": 2,
      "outputs": []
    },
    {
      "cell_type": "markdown",
      "metadata": {
        "id": "Xchf29WyA894"
      },
      "source": [
        "# 3.Print out values"
      ]
    },
    {
      "cell_type": "code",
      "metadata": {
        "colab": {
          "base_uri": "https://localhost:8080/"
        },
        "id": "fE1SfqUCZpvJ",
        "outputId": "f51f4f72-3095-48a5-8f03-36279f6c0c68"
      },
      "source": [
        "k_fold(np.array(data['duration']).reshape(data.shape[0],1),np.array(data['waiting']),3)\n",
        "\n",
        "k_fold(np.array(data['duration']).reshape(data.shape[0],1),np.array(data['waiting']),5)\n",
        "\n",
        "k_fold(np.array(data['duration']).reshape(data.shape[0],1),np.array(data['waiting']),10)\n",
        "\n",
        "k_fold(np.array(data['duration']).reshape(data.shape[0],1),np.array(data['waiting']),20)\n"
      ],
      "execution_count": 3,
      "outputs": [
        {
          "output_type": "stream",
          "text": [
            "The average is 0.7999207351875803when there are 3 folds\n",
            "The standard deviation is 0.030161037758456247when there are 3 folds\n",
            "The average is 0.8055675799726302when there are 5 folds\n",
            "The standard deviation is 0.020841172518981897when there are 5 folds\n",
            "The average is 0.7963679010083882when there are 10 folds\n",
            "The standard deviation is 0.06690662513588429when there are 10 folds\n",
            "The average is 0.7889989400883858when there are 20 folds\n",
            "The standard deviation is 0.10341836750622942when there are 20 folds\n"
          ],
          "name": "stdout"
        }
      ]
    },
    {
      "cell_type": "markdown",
      "metadata": {
        "id": "M4G6ltkcA-8b"
      },
      "source": [
        "# 4. Text"
      ]
    },
    {
      "cell_type": "code",
      "metadata": {
        "id": "3E6OtRgMazch"
      },
      "source": [
        "#I think that an average R^2 of 0.7963679010083882 at 10 fold is a pretty good prediction.\n",
        "#The standard deviation also indicates that the number in this dataset is good. \n",
        "#The result is good when there are 5 folds, which means it is not necassarily better to have more folds."
      ],
      "execution_count": 4,
      "outputs": []
    },
    {
      "cell_type": "code",
      "metadata": {
        "id": "6WBVLLnGfTLY"
      },
      "source": [
        ""
      ],
      "execution_count": 4,
      "outputs": []
    }
  ]
}