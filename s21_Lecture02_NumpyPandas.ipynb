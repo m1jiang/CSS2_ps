{
  "nbformat": 4,
  "nbformat_minor": 0,
  "metadata": {
    "colab": {
      "name": "s21_Lecture02_NumpyPandas.ipynb",
      "provenance": [],
      "collapsed_sections": []
    },
    "kernelspec": {
      "name": "python3",
      "display_name": "Python 3"
    }
  },
  "cells": [
    {
      "cell_type": "markdown",
      "metadata": {
        "id": "HBsD2vXROv_f"
      },
      "source": [
        "#Using NumPY and Pandas\n",
        "\n",
        "Today will mostly be a refresher in using some basic Python and NumPy, which is useful for scientific computing and creating arrays\n",
        "\n",
        "Due this week:\n",
        "1.   Quiz 1 due on Sunday (released after class on Canvas)\n",
        "2.   Problem set 1 due on Sunday\n",
        "    \n",
        "    a. question -> should the best problem set from the students be uploaded?\n",
        "\n",
        "We will discuss:\n",
        "\n",
        "1.   Creating arrays\n",
        "2.   Indexing arrays\n",
        "3.   Applying functions and methods to those arrays\n",
        "4.   Series in Pandas\n",
        "5.   Dataframes in Pandas\n",
        "\n",
        "\n",
        "We start with importing numpy as np, which is the conventional way to import the numpy library. \n",
        "\n",
        "Numpy adds support for large, multi-dimensional arrays and matrices, along with a large collection of high-level mathematical functions to operate on these arrays"
      ]
    },
    {
      "cell_type": "code",
      "metadata": {
        "id": "W8kCCNj5Ovbw"
      },
      "source": [
        "import numpy as np"
      ],
      "execution_count": 1,
      "outputs": []
    },
    {
      "cell_type": "markdown",
      "metadata": {
        "id": "XeLZrWcYjz5E"
      },
      "source": [
        "First thing we will do is create an array. An array is just a structure that has the same value types. Typically, we will deal with integers or floating point numbers"
      ]
    },
    {
      "cell_type": "code",
      "metadata": {
        "id": "PT7b_VS4PEqV"
      },
      "source": [
        "list1 = [1, 2, 3, 4, 5]\n",
        "arr1 = np.array(list1)\n",
        "arr1 = np.array([1,2,3,4,5]) # same thing"
      ],
      "execution_count": 2,
      "outputs": []
    },
    {
      "cell_type": "markdown",
      "metadata": {
        "id": "PF4Z10T9kNrj"
      },
      "source": [
        "We can see what that array looks like using print\n",
        "\n"
      ]
    },
    {
      "cell_type": "code",
      "metadata": {
        "id": "Q144Xmy6PMBt",
        "colab": {
          "base_uri": "https://localhost:8080/"
        },
        "outputId": "4f627af3-2f40-4458-de7c-4bc4f8cdafe7"
      },
      "source": [
        "print(arr1)"
      ],
      "execution_count": 3,
      "outputs": [
        {
          "output_type": "stream",
          "text": [
            "[1 2 3 4 5]\n"
          ],
          "name": "stdout"
        }
      ]
    },
    {
      "cell_type": "markdown",
      "metadata": {
        "id": "-2ZNLwN_nn4k"
      },
      "source": [
        "We can access different parts of this array by indexing into it\n",
        "\n",
        "Just remember that Python is 0-indexed, which means the first item in the array is the 0th item"
      ]
    },
    {
      "cell_type": "code",
      "metadata": {
        "id": "P6S7itMsnnXE",
        "colab": {
          "base_uri": "https://localhost:8080/"
        },
        "outputId": "3a153a1d-2152-486a-e896-d97a4e4eb392"
      },
      "source": [
        "arr1[0]"
      ],
      "execution_count": 4,
      "outputs": [
        {
          "output_type": "execute_result",
          "data": {
            "text/plain": [
              "1"
            ]
          },
          "metadata": {
            "tags": []
          },
          "execution_count": 4
        }
      ]
    },
    {
      "cell_type": "code",
      "metadata": {
        "id": "6k97Fz9on26W",
        "colab": {
          "base_uri": "https://localhost:8080/"
        },
        "outputId": "009310db-9ff3-4668-9d6f-5f3c06694c8f"
      },
      "source": [
        "arr1[1]"
      ],
      "execution_count": 5,
      "outputs": [
        {
          "output_type": "execute_result",
          "data": {
            "text/plain": [
              "2"
            ]
          },
          "metadata": {
            "tags": []
          },
          "execution_count": 5
        }
      ]
    },
    {
      "cell_type": "markdown",
      "metadata": {
        "id": "J39YnaAmVZ5G"
      },
      "source": [
        "*What would arr1[3] show us? *"
      ]
    },
    {
      "cell_type": "markdown",
      "metadata": {
        "id": "6PoCk8IIbPTM"
      },
      "source": [
        "Here, we are slicing, which just accesses multiple portions of that array. Kind of like slicing a pie"
      ]
    },
    {
      "cell_type": "code",
      "metadata": {
        "id": "qxtEfvzHoBWO",
        "colab": {
          "base_uri": "https://localhost:8080/"
        },
        "outputId": "d0a04f35-579c-494e-afd2-35b2f9f4b4bb"
      },
      "source": [
        "arr1[0:2]"
      ],
      "execution_count": 6,
      "outputs": [
        {
          "output_type": "execute_result",
          "data": {
            "text/plain": [
              "array([1, 2])"
            ]
          },
          "metadata": {
            "tags": []
          },
          "execution_count": 6
        }
      ]
    },
    {
      "cell_type": "code",
      "metadata": {
        "id": "_xan3psgoG6C",
        "colab": {
          "base_uri": "https://localhost:8080/"
        },
        "outputId": "62aee3c7-66f7-482c-c27d-ee49ad37a90d"
      },
      "source": [
        "arr1[0:3]"
      ],
      "execution_count": 7,
      "outputs": [
        {
          "output_type": "execute_result",
          "data": {
            "text/plain": [
              "array([1, 2, 3])"
            ]
          },
          "metadata": {
            "tags": []
          },
          "execution_count": 7
        }
      ]
    },
    {
      "cell_type": "markdown",
      "metadata": {
        "id": "5cG6vYg1bceb"
      },
      "source": [
        "*Will the next line of code break?*\n",
        "\n",
        "Negative indexing is helpful if you don't know how large your array is"
      ]
    },
    {
      "cell_type": "code",
      "metadata": {
        "id": "9MmHUxZeoJlI",
        "colab": {
          "base_uri": "https://localhost:8080/"
        },
        "outputId": "d8d428f0-3213-4e77-8893-1159fcc5c90c"
      },
      "source": [
        "arr1[-1]"
      ],
      "execution_count": 8,
      "outputs": [
        {
          "output_type": "execute_result",
          "data": {
            "text/plain": [
              "5"
            ]
          },
          "metadata": {
            "tags": []
          },
          "execution_count": 8
        }
      ]
    },
    {
      "cell_type": "code",
      "metadata": {
        "id": "YrDHDlNkSpLt",
        "colab": {
          "base_uri": "https://localhost:8080/"
        },
        "outputId": "26463ba4-1733-46a2-fb25-ac6e47a6b34a"
      },
      "source": [
        "arr1[-5:]"
      ],
      "execution_count": 9,
      "outputs": [
        {
          "output_type": "execute_result",
          "data": {
            "text/plain": [
              "array([1, 2, 3, 4, 5])"
            ]
          },
          "metadata": {
            "tags": []
          },
          "execution_count": 9
        }
      ]
    },
    {
      "cell_type": "markdown",
      "metadata": {
        "id": "T6JBrBqgA4fq"
      },
      "source": [
        "It may also be helpful to pass in an index as a list"
      ]
    },
    {
      "cell_type": "code",
      "metadata": {
        "id": "oGIbfHBsc4lc",
        "colab": {
          "base_uri": "https://localhost:8080/"
        },
        "outputId": "4b3ac973-add2-4f10-d712-f091027351fd"
      },
      "source": [
        "arr1[[-1,-2,-3]]"
      ],
      "execution_count": 10,
      "outputs": [
        {
          "output_type": "execute_result",
          "data": {
            "text/plain": [
              "array([5, 4, 3])"
            ]
          },
          "metadata": {
            "tags": []
          },
          "execution_count": 10
        }
      ]
    },
    {
      "cell_type": "code",
      "metadata": {
        "id": "FqNJb8sRdDqe",
        "colab": {
          "base_uri": "https://localhost:8080/"
        },
        "outputId": "a484617a-36b6-451c-a86a-5692a72b32ea"
      },
      "source": [
        "arr1[[2,4,3]]"
      ],
      "execution_count": 11,
      "outputs": [
        {
          "output_type": "execute_result",
          "data": {
            "text/plain": [
              "array([3, 5, 4])"
            ]
          },
          "metadata": {
            "tags": []
          },
          "execution_count": 11
        }
      ]
    },
    {
      "cell_type": "code",
      "metadata": {
        "id": "C0hfCBE_A-Ge",
        "colab": {
          "base_uri": "https://localhost:8080/"
        },
        "outputId": "52117bc7-1a45-4aa3-8ca0-9414e953baca"
      },
      "source": [
        "arr1[[-2,3]]"
      ],
      "execution_count": 12,
      "outputs": [
        {
          "output_type": "execute_result",
          "data": {
            "text/plain": [
              "array([4, 4])"
            ]
          },
          "metadata": {
            "tags": []
          },
          "execution_count": 12
        }
      ]
    },
    {
      "cell_type": "markdown",
      "metadata": {
        "id": "a3_DmmrGPc2C"
      },
      "source": [
        "In case indexing seems kind of strange, check out this link\n",
        "\n",
        "https://www.quora.com/What-is-negative-index-in-Python\n",
        "\n",
        "It is worth your time to become familiar with slicing and indexing because often many of bugs simply result from incorrect slicing/indexing"
      ]
    },
    {
      "cell_type": "markdown",
      "metadata": {
        "id": "J-7Ey14wkfNM"
      },
      "source": [
        "With an array, there are various methods/functions we can use to interact with our data"
      ]
    },
    {
      "cell_type": "code",
      "metadata": {
        "id": "BzWSYeNUPNHX",
        "colab": {
          "base_uri": "https://localhost:8080/"
        },
        "outputId": "7921dfb3-d2d2-436e-e6b1-d0b6eb9ec224"
      },
      "source": [
        "print(arr1.shape) # doesn't need parentheses because it is a tuple, which is like a list that cannot be changed (immutable)\n",
        "print(np.shape(arr1))"
      ],
      "execution_count": 13,
      "outputs": [
        {
          "output_type": "stream",
          "text": [
            "(5,)\n",
            "(5,)\n"
          ],
          "name": "stdout"
        }
      ]
    },
    {
      "cell_type": "code",
      "metadata": {
        "id": "I0qO-znFkt1f",
        "colab": {
          "base_uri": "https://localhost:8080/"
        },
        "outputId": "c4cf31a3-801f-4c44-9dc9-471c8866c3c2"
      },
      "source": [
        "print(arr1.mean())\n",
        "print(np.mean(arr1))"
      ],
      "execution_count": 14,
      "outputs": [
        {
          "output_type": "stream",
          "text": [
            "3.0\n",
            "3.0\n"
          ],
          "name": "stdout"
        }
      ]
    },
    {
      "cell_type": "code",
      "metadata": {
        "id": "QIyACfPnkw-U",
        "colab": {
          "base_uri": "https://localhost:8080/"
        },
        "outputId": "690e5300-3eb5-4563-a7e9-8e48cfe70ddb"
      },
      "source": [
        "arr1.max()\n",
        "np.max(arr1)"
      ],
      "execution_count": 15,
      "outputs": [
        {
          "output_type": "execute_result",
          "data": {
            "text/plain": [
              "5"
            ]
          },
          "metadata": {
            "tags": []
          },
          "execution_count": 15
        }
      ]
    },
    {
      "cell_type": "markdown",
      "metadata": {
        "id": "4ni69PaeV1R1"
      },
      "source": [
        "As I mentioned before, numpy has mathematical functions we can use on our data\n",
        "\n",
        "It may be helpful to log tranform or sqrt the values within your array"
      ]
    },
    {
      "cell_type": "code",
      "metadata": {
        "id": "SUDnBH_GzLul",
        "colab": {
          "base_uri": "https://localhost:8080/"
        },
        "outputId": "f5b87f24-30b3-4202-b6f5-cb5c2b634cd2"
      },
      "source": [
        "np.log(arr1)\n"
      ],
      "execution_count": 16,
      "outputs": [
        {
          "output_type": "execute_result",
          "data": {
            "text/plain": [
              "array([0.        , 0.69314718, 1.09861229, 1.38629436, 1.60943791])"
            ]
          },
          "metadata": {
            "tags": []
          },
          "execution_count": 16
        }
      ]
    },
    {
      "cell_type": "code",
      "metadata": {
        "id": "xzVy09XNzMQP",
        "colab": {
          "base_uri": "https://localhost:8080/"
        },
        "outputId": "c179bba0-4e63-4eb7-9685-7685b90d3fb4"
      },
      "source": [
        "np.sqrt(arr1)"
      ],
      "execution_count": 17,
      "outputs": [
        {
          "output_type": "execute_result",
          "data": {
            "text/plain": [
              "array([1.        , 1.41421356, 1.73205081, 2.        , 2.23606798])"
            ]
          },
          "metadata": {
            "tags": []
          },
          "execution_count": 17
        }
      ]
    },
    {
      "cell_type": "markdown",
      "metadata": {
        "id": "sP7M6QPjwKvN"
      },
      "source": [
        "We can also reshape the array, which will may be useful when combining arrays that have different dimensions"
      ]
    },
    {
      "cell_type": "code",
      "metadata": {
        "id": "regbbpFWk82Y",
        "colab": {
          "base_uri": "https://localhost:8080/"
        },
        "outputId": "07bf4c1f-7e34-4930-c813-c84b28d06077"
      },
      "source": [
        "arr1.reshape(5,1)\n",
        "np.reshape(arr1,[5,1])"
      ],
      "execution_count": 18,
      "outputs": [
        {
          "output_type": "execute_result",
          "data": {
            "text/plain": [
              "array([[1],\n",
              "       [2],\n",
              "       [3],\n",
              "       [4],\n",
              "       [5]])"
            ]
          },
          "metadata": {
            "tags": []
          },
          "execution_count": 18
        }
      ]
    },
    {
      "cell_type": "code",
      "metadata": {
        "colab": {
          "base_uri": "https://localhost:8080/"
        },
        "id": "d8IPwdf-CtxF",
        "outputId": "88fe8bc0-c5f3-4918-a8e7-b5ebf1fcd337"
      },
      "source": [
        "arr1.transpose() # transpose is another option, though this doesn't work on 1-dimensional arrays"
      ],
      "execution_count": 19,
      "outputs": [
        {
          "output_type": "execute_result",
          "data": {
            "text/plain": [
              "array([1, 2, 3, 4, 5])"
            ]
          },
          "metadata": {
            "tags": []
          },
          "execution_count": 19
        }
      ]
    },
    {
      "cell_type": "markdown",
      "metadata": {
        "id": "xsBa3O3pBK4D"
      },
      "source": [
        "We can add the shape method after we reshape to see the new size of our dimensions\n",
        "\n",
        "5 rows, 1 column"
      ]
    },
    {
      "cell_type": "code",
      "metadata": {
        "id": "PSzjQomRV_Gn",
        "colab": {
          "base_uri": "https://localhost:8080/"
        },
        "outputId": "d86c0054-adc0-4ced-bab5-010322165713"
      },
      "source": [
        "arr1.reshape(5,1).shape"
      ],
      "execution_count": 20,
      "outputs": [
        {
          "output_type": "execute_result",
          "data": {
            "text/plain": [
              "(5, 1)"
            ]
          },
          "metadata": {
            "tags": []
          },
          "execution_count": 20
        }
      ]
    },
    {
      "cell_type": "markdown",
      "metadata": {
        "id": "BJgTT_j5V9oT"
      },
      "source": [
        "The shape of your data is something to be mindful of as it tells you how much data you have and the orientation of that data"
      ]
    },
    {
      "cell_type": "markdown",
      "metadata": {
        "id": "0x9vU8mQb8Ok"
      },
      "source": [
        "Of course, you can also do operations to that array, presuming the array contains integers or floating point numbers"
      ]
    },
    {
      "cell_type": "code",
      "metadata": {
        "id": "7-jyQE1tcQng",
        "colab": {
          "base_uri": "https://localhost:8080/"
        },
        "outputId": "9120a17b-a793-452f-c866-60e60c029dea"
      },
      "source": [
        "arr1 * 2"
      ],
      "execution_count": 21,
      "outputs": [
        {
          "output_type": "execute_result",
          "data": {
            "text/plain": [
              "array([ 2,  4,  6,  8, 10])"
            ]
          },
          "metadata": {
            "tags": []
          },
          "execution_count": 21
        }
      ]
    },
    {
      "cell_type": "code",
      "metadata": {
        "id": "HPVLEEHOcKZG",
        "colab": {
          "base_uri": "https://localhost:8080/"
        },
        "outputId": "5cfbc044-f346-4e13-8439-ffda4f995475"
      },
      "source": [
        "arr1 ** 2 ## squaring it"
      ],
      "execution_count": 22,
      "outputs": [
        {
          "output_type": "execute_result",
          "data": {
            "text/plain": [
              "array([ 1,  4,  9, 16, 25])"
            ]
          },
          "metadata": {
            "tags": []
          },
          "execution_count": 22
        }
      ]
    },
    {
      "cell_type": "code",
      "metadata": {
        "id": "_41ejUJOz8up",
        "colab": {
          "base_uri": "https://localhost:8080/"
        },
        "outputId": "6ce29fb4-b9f9-4f77-9ce9-173a675d48b4"
      },
      "source": [
        "arr1+1"
      ],
      "execution_count": 23,
      "outputs": [
        {
          "output_type": "execute_result",
          "data": {
            "text/plain": [
              "array([2, 3, 4, 5, 6])"
            ]
          },
          "metadata": {
            "tags": []
          },
          "execution_count": 23
        }
      ]
    },
    {
      "cell_type": "markdown",
      "metadata": {
        "id": "uJ5mrukLcBcn"
      },
      "source": [
        "Let's take that last code cell and see what happens if I index into it.\n",
        "\n",
        "*If I do arr1[0], will it return a 1 or 2?*"
      ]
    },
    {
      "cell_type": "code",
      "metadata": {
        "id": "wO_hs_focAyq",
        "colab": {
          "base_uri": "https://localhost:8080/"
        },
        "outputId": "402440bd-eb9d-4d9e-e341-488d3ab6a7ae"
      },
      "source": [
        "arr1[0]"
      ],
      "execution_count": 24,
      "outputs": [
        {
          "output_type": "execute_result",
          "data": {
            "text/plain": [
              "1"
            ]
          },
          "metadata": {
            "tags": []
          },
          "execution_count": 24
        }
      ]
    },
    {
      "cell_type": "markdown",
      "metadata": {
        "id": "hDIzU0W3d431"
      },
      "source": [
        "Of course, adding to that array does not replace that array with the current values\n",
        "\n",
        "If I do my operation, I can create a new array with the new values"
      ]
    },
    {
      "cell_type": "code",
      "metadata": {
        "id": "K3oTN1pBeIEm",
        "colab": {
          "base_uri": "https://localhost:8080/"
        },
        "outputId": "1605514e-5082-4229-9aa6-1912ecd752a3"
      },
      "source": [
        "new_arr1 = arr1+1\n",
        "print(new_arr1)"
      ],
      "execution_count": 25,
      "outputs": [
        {
          "output_type": "stream",
          "text": [
            "[2 3 4 5 6]\n"
          ],
          "name": "stdout"
        }
      ]
    },
    {
      "cell_type": "markdown",
      "metadata": {
        "id": "g__5Ez6r0ZSj"
      },
      "source": [
        "Let's create a slightly more complicated array\n",
        "\n",
        "We are basically passing it multiple lists that are treated as separate rows"
      ]
    },
    {
      "cell_type": "code",
      "metadata": {
        "id": "-FT07wQa0YuA",
        "colab": {
          "base_uri": "https://localhost:8080/"
        },
        "outputId": "9efa8f62-5eea-4732-f8c4-303a21223b65"
      },
      "source": [
        "arr2 = np.array([[1,2,3],[4,5,6]])\n",
        "print(arr2)"
      ],
      "execution_count": 26,
      "outputs": [
        {
          "output_type": "stream",
          "text": [
            "[[1 2 3]\n",
            " [4 5 6]]\n"
          ],
          "name": "stdout"
        }
      ]
    },
    {
      "cell_type": "markdown",
      "metadata": {
        "id": "bzfICTP-XWVt"
      },
      "source": [
        "*What shape will arr2 be?*"
      ]
    },
    {
      "cell_type": "code",
      "metadata": {
        "id": "VMqeNeRMXSnH",
        "colab": {
          "base_uri": "https://localhost:8080/"
        },
        "outputId": "8912a8fb-c12b-46b2-ed00-f7ff3f46e8fb"
      },
      "source": [
        "print(arr2.shape)"
      ],
      "execution_count": 27,
      "outputs": [
        {
          "output_type": "stream",
          "text": [
            "(2, 3)\n"
          ],
          "name": "stdout"
        }
      ]
    },
    {
      "cell_type": "markdown",
      "metadata": {
        "id": "B9KZFs6Wr0cd"
      },
      "source": [
        "And you can index into the tuple to retrieve the number of items in the row or column"
      ]
    },
    {
      "cell_type": "code",
      "metadata": {
        "colab": {
          "base_uri": "https://localhost:8080/"
        },
        "id": "2KhCY7Jurxp2",
        "outputId": "becea345-0c23-4046-c86e-ee4262d564fa"
      },
      "source": [
        "arr2.shape[1]"
      ],
      "execution_count": 63,
      "outputs": [
        {
          "output_type": "execute_result",
          "data": {
            "text/plain": [
              "3"
            ]
          },
          "metadata": {
            "tags": []
          },
          "execution_count": 63
        }
      ]
    },
    {
      "cell_type": "markdown",
      "metadata": {
        "id": "UELtFv7x0dPp"
      },
      "source": [
        "We can then apply those previous functions, but along different axes"
      ]
    },
    {
      "cell_type": "code",
      "metadata": {
        "id": "nczNimHV0crb",
        "colab": {
          "base_uri": "https://localhost:8080/"
        },
        "outputId": "b173f3a5-9b3c-4dbd-f5f0-1cc41a86eb60"
      },
      "source": [
        "arr2.sum()"
      ],
      "execution_count": 28,
      "outputs": [
        {
          "output_type": "execute_result",
          "data": {
            "text/plain": [
              "21"
            ]
          },
          "metadata": {
            "tags": []
          },
          "execution_count": 28
        }
      ]
    },
    {
      "cell_type": "code",
      "metadata": {
        "id": "ur0nIov-cXVY",
        "colab": {
          "base_uri": "https://localhost:8080/"
        },
        "outputId": "da0dee05-9176-432f-dd88-c21447522649"
      },
      "source": [
        "arr2.sum(axis=0) # axis 0 = rows"
      ],
      "execution_count": 29,
      "outputs": [
        {
          "output_type": "execute_result",
          "data": {
            "text/plain": [
              "array([5, 7, 9])"
            ]
          },
          "metadata": {
            "tags": []
          },
          "execution_count": 29
        }
      ]
    },
    {
      "cell_type": "code",
      "metadata": {
        "id": "KSVpwY4KccfY",
        "colab": {
          "base_uri": "https://localhost:8080/"
        },
        "outputId": "1b42547f-3815-434f-91de-0a4d00f1a088"
      },
      "source": [
        "arr2.sum(axis=1) # axis 1 = columns"
      ],
      "execution_count": 30,
      "outputs": [
        {
          "output_type": "execute_result",
          "data": {
            "text/plain": [
              "array([ 6, 15])"
            ]
          },
          "metadata": {
            "tags": []
          },
          "execution_count": 30
        }
      ]
    },
    {
      "cell_type": "markdown",
      "metadata": {
        "id": "BMoFd-yqlQg1"
      },
      "source": [
        "Numpy is also useful for creating empty or random arrays\n"
      ]
    },
    {
      "cell_type": "code",
      "metadata": {
        "id": "9f45YLcOPcOc",
        "colab": {
          "base_uri": "https://localhost:8080/"
        },
        "outputId": "96e595e7-61cd-4459-a8d2-d61dc52b8933"
      },
      "source": [
        "np.zeros((1,2))"
      ],
      "execution_count": 31,
      "outputs": [
        {
          "output_type": "execute_result",
          "data": {
            "text/plain": [
              "array([[0., 0.]])"
            ]
          },
          "metadata": {
            "tags": []
          },
          "execution_count": 31
        }
      ]
    },
    {
      "cell_type": "code",
      "metadata": {
        "id": "QPw5L-y3PlHM",
        "colab": {
          "base_uri": "https://localhost:8080/"
        },
        "outputId": "c826a1bf-8c11-4fb7-ca3d-c160d0c8ae27"
      },
      "source": [
        "np.ones((2,2))"
      ],
      "execution_count": 32,
      "outputs": [
        {
          "output_type": "execute_result",
          "data": {
            "text/plain": [
              "array([[1., 1.],\n",
              "       [1., 1.]])"
            ]
          },
          "metadata": {
            "tags": []
          },
          "execution_count": 32
        }
      ]
    },
    {
      "cell_type": "markdown",
      "metadata": {
        "id": "sTrlJRqoozDK"
      },
      "source": [
        "You can also make arrays of random integers"
      ]
    },
    {
      "cell_type": "code",
      "metadata": {
        "id": "1zAxhwSVuVs6",
        "colab": {
          "base_uri": "https://localhost:8080/"
        },
        "outputId": "96f083b1-d234-41d0-f11d-3dc6419640dd"
      },
      "source": [
        "np.random.randint(0,10,[2,2]) # input arguments = low, high, size of the array"
      ],
      "execution_count": 33,
      "outputs": [
        {
          "output_type": "execute_result",
          "data": {
            "text/plain": [
              "array([[3, 8],\n",
              "       [0, 2]])"
            ]
          },
          "metadata": {
            "tags": []
          },
          "execution_count": 33
        }
      ]
    },
    {
      "cell_type": "markdown",
      "metadata": {
        "id": "L4Mwppo-o3uM"
      },
      "source": [
        "And arrays of random numbers"
      ]
    },
    {
      "cell_type": "code",
      "metadata": {
        "id": "M5B8F0Iro2w-",
        "colab": {
          "base_uri": "https://localhost:8080/"
        },
        "outputId": "ef85fb87-d35c-4a66-fa94-c2440c4cdc84"
      },
      "source": [
        "np.random.randn(2,3) # input arguments = size of the array"
      ],
      "execution_count": 34,
      "outputs": [
        {
          "output_type": "execute_result",
          "data": {
            "text/plain": [
              "array([[ 0.92031505, -1.48011183, -0.26419528],\n",
              "       [-0.53109563,  0.15510844,  1.43475704]])"
            ]
          },
          "metadata": {
            "tags": []
          },
          "execution_count": 34
        }
      ]
    },
    {
      "cell_type": "markdown",
      "metadata": {
        "id": "QFM5AryJpPgb"
      },
      "source": [
        "We can perform operations on these arrays\n",
        "\n",
        "I'll just create a deep copy of arr2\n"
      ]
    },
    {
      "cell_type": "code",
      "metadata": {
        "id": "OA6Fn4uNZMPy",
        "colab": {
          "base_uri": "https://localhost:8080/"
        },
        "outputId": "9b775aea-ada4-4f48-e42b-f701c7a89fec"
      },
      "source": [
        "arr3 = arr2.copy()\n",
        "print(arr3)"
      ],
      "execution_count": 35,
      "outputs": [
        {
          "output_type": "stream",
          "text": [
            "[[1 2 3]\n",
            " [4 5 6]]\n"
          ],
          "name": "stdout"
        }
      ]
    },
    {
      "cell_type": "code",
      "metadata": {
        "id": "lJ68uhHTQUBh",
        "colab": {
          "base_uri": "https://localhost:8080/"
        },
        "outputId": "51dbc481-2786-43bf-a420-74cc94442937"
      },
      "source": [
        "print(np.add(arr2,arr3))\n",
        "print(arr2+arr3)"
      ],
      "execution_count": 36,
      "outputs": [
        {
          "output_type": "stream",
          "text": [
            "[[ 2  4  6]\n",
            " [ 8 10 12]]\n",
            "[[ 2  4  6]\n",
            " [ 8 10 12]]\n"
          ],
          "name": "stdout"
        }
      ]
    },
    {
      "cell_type": "code",
      "metadata": {
        "id": "UD7B-QzIRSJF",
        "colab": {
          "base_uri": "https://localhost:8080/"
        },
        "outputId": "90521c34-4fcc-4a5d-d482-b8253504b0bc"
      },
      "source": [
        "print(np.multiply(arr2,arr3))"
      ],
      "execution_count": 37,
      "outputs": [
        {
          "output_type": "stream",
          "text": [
            "[[ 1  4  9]\n",
            " [16 25 36]]\n"
          ],
          "name": "stdout"
        }
      ]
    },
    {
      "cell_type": "markdown",
      "metadata": {
        "id": "osJACZHnDmeU"
      },
      "source": [
        "What you do think will happen here?"
      ]
    },
    {
      "cell_type": "code",
      "metadata": {
        "colab": {
          "base_uri": "https://localhost:8080/"
        },
        "id": "ryO95vOrDle9",
        "outputId": "737b3ae1-9837-49f9-8ce3-4fa75f293c14"
      },
      "source": [
        "arr2+np.ones((2,3))"
      ],
      "execution_count": 38,
      "outputs": [
        {
          "output_type": "execute_result",
          "data": {
            "text/plain": [
              "array([[2., 3., 4.],\n",
              "       [5., 6., 7.]])"
            ]
          },
          "metadata": {
            "tags": []
          },
          "execution_count": 38
        }
      ]
    },
    {
      "cell_type": "markdown",
      "metadata": {
        "id": "fwxvvROaDp6g"
      },
      "source": [
        "When performing operating using two arrays, they need to have at least one dimension in commmon\n",
        "\n",
        "This takes advantage of something called \"broadcasting\" where python is basically doing an extra step of basically repeating the smaller array until it matches the dimension shape of the larger array"
      ]
    },
    {
      "cell_type": "code",
      "metadata": {
        "colab": {
          "base_uri": "https://localhost:8080/"
        },
        "id": "NtUAHWJTDo6P",
        "outputId": "39a200a3-a14f-4900-ad83-d545261ac155"
      },
      "source": [
        "print(arr2+np.ones((2,1)))\n",
        "print(arr2+1)"
      ],
      "execution_count": 39,
      "outputs": [
        {
          "output_type": "stream",
          "text": [
            "[[2. 3. 4.]\n",
            " [5. 6. 7.]]\n",
            "[[2 3 4]\n",
            " [5 6 7]]\n"
          ],
          "name": "stdout"
        }
      ]
    },
    {
      "cell_type": "markdown",
      "metadata": {
        "id": "DfJHPCWdzSpQ"
      },
      "source": [
        "One thing that will come in handy often is the ability to turn our data into boolean values (i.e., either 0 or 1)"
      ]
    },
    {
      "cell_type": "code",
      "metadata": {
        "id": "rOI8pEx20TRW",
        "colab": {
          "base_uri": "https://localhost:8080/"
        },
        "outputId": "6752d180-7ea4-48c4-87ce-a064be5f9900"
      },
      "source": [
        "1 > 0"
      ],
      "execution_count": 40,
      "outputs": [
        {
          "output_type": "execute_result",
          "data": {
            "text/plain": [
              "True"
            ]
          },
          "metadata": {
            "tags": []
          },
          "execution_count": 40
        }
      ]
    },
    {
      "cell_type": "code",
      "metadata": {
        "id": "V9Ah03AA0kk-",
        "colab": {
          "base_uri": "https://localhost:8080/"
        },
        "outputId": "6139112b-16ea-49a4-dffd-778832c34879"
      },
      "source": [
        "1 < 0"
      ],
      "execution_count": 41,
      "outputs": [
        {
          "output_type": "execute_result",
          "data": {
            "text/plain": [
              "False"
            ]
          },
          "metadata": {
            "tags": []
          },
          "execution_count": 41
        }
      ]
    },
    {
      "cell_type": "code",
      "metadata": {
        "id": "NchSZ2M5EL7_",
        "colab": {
          "base_uri": "https://localhost:8080/"
        },
        "outputId": "56a3721d-03d7-4cb5-9921-7f6f5b162bd0"
      },
      "source": [
        "1 == 0"
      ],
      "execution_count": 42,
      "outputs": [
        {
          "output_type": "execute_result",
          "data": {
            "text/plain": [
              "False"
            ]
          },
          "metadata": {
            "tags": []
          },
          "execution_count": 42
        }
      ]
    },
    {
      "cell_type": "code",
      "metadata": {
        "colab": {
          "base_uri": "https://localhost:8080/"
        },
        "id": "E2CqGxc1EcGR",
        "outputId": "8fbeadff-cbea-4e21-ac7a-1bb1c58d8442"
      },
      "source": [
        "1 != 0"
      ],
      "execution_count": 43,
      "outputs": [
        {
          "output_type": "execute_result",
          "data": {
            "text/plain": [
              "True"
            ]
          },
          "metadata": {
            "tags": []
          },
          "execution_count": 43
        }
      ]
    },
    {
      "cell_type": "markdown",
      "metadata": {
        "id": "J0Tpgjh8eo7q"
      },
      "source": [
        "We can make a boolean array from an array"
      ]
    },
    {
      "cell_type": "code",
      "metadata": {
        "id": "knd1jsUbRdsA",
        "colab": {
          "base_uri": "https://localhost:8080/"
        },
        "outputId": "560de011-0165-4254-ac45-261f62fd1ae6"
      },
      "source": [
        "arr5 = np.array([1,2,3,4,5,6,7,8])\n",
        "print(arr5)"
      ],
      "execution_count": 44,
      "outputs": [
        {
          "output_type": "stream",
          "text": [
            "[1 2 3 4 5 6 7 8]\n"
          ],
          "name": "stdout"
        }
      ]
    },
    {
      "cell_type": "code",
      "metadata": {
        "id": "UaDJlEKASuhN",
        "colab": {
          "base_uri": "https://localhost:8080/"
        },
        "outputId": "f20d31e9-4cc2-48be-b38d-4835c2b07236"
      },
      "source": [
        "boolean = arr5 > 4\n",
        "print(boolean)"
      ],
      "execution_count": 45,
      "outputs": [
        {
          "output_type": "stream",
          "text": [
            "[False False False False  True  True  True  True]\n"
          ],
          "name": "stdout"
        }
      ]
    },
    {
      "cell_type": "code",
      "metadata": {
        "id": "iuoQVNpk0p67",
        "colab": {
          "base_uri": "https://localhost:8080/"
        },
        "outputId": "32ba172a-abcc-42e3-e8b3-6de486060a9a"
      },
      "source": [
        "boolean = arr5 >= 4\n",
        "print(boolean)"
      ],
      "execution_count": 46,
      "outputs": [
        {
          "output_type": "stream",
          "text": [
            "[False False False  True  True  True  True  True]\n"
          ],
          "name": "stdout"
        }
      ]
    },
    {
      "cell_type": "markdown",
      "metadata": {
        "id": "cjNwBrMkfMwH"
      },
      "source": [
        "When we slice the original array with the boolean array, it will return just the portions of the boolean labelled True"
      ]
    },
    {
      "cell_type": "code",
      "metadata": {
        "id": "ZtXN531oS0Vf",
        "colab": {
          "base_uri": "https://localhost:8080/"
        },
        "outputId": "488955a7-0bc5-48be-e96b-215045bdbd29"
      },
      "source": [
        "arr5[boolean] # >= 4"
      ],
      "execution_count": 47,
      "outputs": [
        {
          "output_type": "execute_result",
          "data": {
            "text/plain": [
              "array([4, 5, 6, 7, 8])"
            ]
          },
          "metadata": {
            "tags": []
          },
          "execution_count": 47
        }
      ]
    },
    {
      "cell_type": "markdown",
      "metadata": {
        "id": "X2sTVWYMdGjU"
      },
      "source": [
        "Slicing via a boolean array is a very useful way of accessing data and will be especially important in this class"
      ]
    },
    {
      "cell_type": "markdown",
      "metadata": {
        "id": "DEXB2aACZ3gZ"
      },
      "source": [
        "Now, that was a basic crash course in numpy. Let's quickly discuss pandas now. Pandas is a library for data manipulation and analysis. In particular, it offers data structures and operations for manipulating numerical tables and time series\n",
        "\n",
        "Let's import pandas as pd"
      ]
    },
    {
      "cell_type": "code",
      "metadata": {
        "id": "XhY0p8pdTxFe"
      },
      "source": [
        "import pandas as pd"
      ],
      "execution_count": 48,
      "outputs": []
    },
    {
      "cell_type": "code",
      "metadata": {
        "id": "4fEQ9I1m69N0",
        "colab": {
          "base_uri": "https://localhost:8080/"
        },
        "outputId": "d9ab79dc-fd61-4477-ef68-840960c3ea98"
      },
      "source": [
        "arr5 = np.array([8.3,3.9,2.7,2.3,1.6])\n",
        "print(arr5)"
      ],
      "execution_count": 49,
      "outputs": [
        {
          "output_type": "stream",
          "text": [
            "[8.3 3.9 2.7 2.3 1.6]\n"
          ],
          "name": "stdout"
        }
      ]
    },
    {
      "cell_type": "markdown",
      "metadata": {
        "id": "e7EXxZxIcxbm"
      },
      "source": [
        "This new aray is nice, but each of these values has some meaning"
      ]
    },
    {
      "cell_type": "markdown",
      "metadata": {
        "id": "8TYmSkwRlX1j"
      },
      "source": [
        "Let's also create a list with these items"
      ]
    },
    {
      "cell_type": "code",
      "metadata": {
        "id": "fo9pjAyglXQC"
      },
      "source": [
        "city_list = ['NYC','LA','Chicago','Houston','Phoenix']"
      ],
      "execution_count": 50,
      "outputs": []
    },
    {
      "cell_type": "markdown",
      "metadata": {
        "id": "6qgxI3zGlURJ"
      },
      "source": [
        "And let's create a series with that array and use the city list as the index\n",
        "\n",
        "These numbers correspond to the city's population (millions)"
      ]
    },
    {
      "cell_type": "code",
      "metadata": {
        "id": "eUzJBFRNcA6t",
        "colab": {
          "base_uri": "https://localhost:8080/"
        },
        "outputId": "ad994c66-ace4-4942-bef5-beb636a7ec76"
      },
      "source": [
        "ser = pd.Series(data=arr5,index=city_list)\n",
        "print(ser)"
      ],
      "execution_count": 51,
      "outputs": [
        {
          "output_type": "stream",
          "text": [
            "NYC        8.3\n",
            "LA         3.9\n",
            "Chicago    2.7\n",
            "Houston    2.3\n",
            "Phoenix    1.6\n",
            "dtype: float64\n"
          ],
          "name": "stdout"
        }
      ]
    },
    {
      "cell_type": "markdown",
      "metadata": {
        "id": "jpKVuiDJlmYm"
      },
      "source": [
        "This looks pretty similar to arrays, except that on the left, you have those city names. This certainly helps us understand our data a bit better"
      ]
    },
    {
      "cell_type": "markdown",
      "metadata": {
        "id": "ZjK_KEaEd0pq"
      },
      "source": [
        "Can index into the series just like the array"
      ]
    },
    {
      "cell_type": "code",
      "metadata": {
        "id": "hfkw57_oczWm",
        "colab": {
          "base_uri": "https://localhost:8080/"
        },
        "outputId": "d31ec978-8f23-4e21-ef6e-b297e9ece85c"
      },
      "source": [
        "print(ser['NYC']) # can index by the index name or by its number\n",
        "print(ser[0])"
      ],
      "execution_count": 52,
      "outputs": [
        {
          "output_type": "stream",
          "text": [
            "8.3\n",
            "8.3\n"
          ],
          "name": "stdout"
        }
      ]
    },
    {
      "cell_type": "markdown",
      "metadata": {
        "id": "G1aq5FMRd7YQ"
      },
      "source": [
        "But let's add a couple new cities - including the best city - San diego\n",
        "\n",
        "I'm going to create a new series with the number cities and number"
      ]
    },
    {
      "cell_type": "code",
      "metadata": {
        "id": "bLEYjxJhdjEa"
      },
      "source": [
        "ser2 = pd.Series(data=[1.4],index=['SD']) # important that there are brackets around what you set index to"
      ],
      "execution_count": 53,
      "outputs": []
    },
    {
      "cell_type": "code",
      "metadata": {
        "id": "nsyJhfVkCrEO",
        "colab": {
          "base_uri": "https://localhost:8080/"
        },
        "outputId": "521a0726-d4b6-413b-b496-80320587b940"
      },
      "source": [
        "print(ser2)"
      ],
      "execution_count": 54,
      "outputs": [
        {
          "output_type": "stream",
          "text": [
            "SD    1.4\n",
            "dtype: float64\n"
          ],
          "name": "stdout"
        }
      ]
    },
    {
      "cell_type": "markdown",
      "metadata": {
        "id": "kaGUVHBgd-_S"
      },
      "source": [
        "We can now append or concatenate this series with ser"
      ]
    },
    {
      "cell_type": "code",
      "metadata": {
        "id": "_lGHkV4EdtMB",
        "colab": {
          "base_uri": "https://localhost:8080/"
        },
        "outputId": "0ca524d1-f558-4aa4-f6b7-c49c190bab08"
      },
      "source": [
        "ser.append(ser2)"
      ],
      "execution_count": 55,
      "outputs": [
        {
          "output_type": "execute_result",
          "data": {
            "text/plain": [
              "NYC        8.3\n",
              "LA         3.9\n",
              "Chicago    2.7\n",
              "Houston    2.3\n",
              "Phoenix    1.6\n",
              "SD         1.4\n",
              "dtype: float64"
            ]
          },
          "metadata": {
            "tags": []
          },
          "execution_count": 55
        }
      ]
    },
    {
      "cell_type": "markdown",
      "metadata": {
        "id": "TzdNY_1nl7YL"
      },
      "source": [
        "Of course, just like before, this method does not replace the original one\n",
        "\n",
        " So, let's create a new series\n"
      ]
    },
    {
      "cell_type": "code",
      "metadata": {
        "id": "pB3pFvobdyuw",
        "colab": {
          "base_uri": "https://localhost:8080/"
        },
        "outputId": "e07d3959-7443-4afb-f04c-da4c423b961e"
      },
      "source": [
        "ser3 = ser.append(ser2)\n",
        "print(ser3)"
      ],
      "execution_count": 56,
      "outputs": [
        {
          "output_type": "stream",
          "text": [
            "NYC        8.3\n",
            "LA         3.9\n",
            "Chicago    2.7\n",
            "Houston    2.3\n",
            "Phoenix    1.6\n",
            "SD         1.4\n",
            "dtype: float64\n"
          ],
          "name": "stdout"
        }
      ]
    },
    {
      "cell_type": "markdown",
      "metadata": {
        "id": "soWY6B7MmVhV"
      },
      "source": [
        "Instead of append, we could have used concat. Many times in this class, we will see multiple ways of performing the same action. I prefer pd.concat to append because you can concat lots of objects instead of just one"
      ]
    },
    {
      "cell_type": "code",
      "metadata": {
        "id": "Vo5g6RNYmF9H",
        "colab": {
          "base_uri": "https://localhost:8080/"
        },
        "outputId": "7aa574e8-639b-4772-9f41-25cfb526c497"
      },
      "source": [
        "pd.concat([ser,ser2])"
      ],
      "execution_count": 57,
      "outputs": [
        {
          "output_type": "execute_result",
          "data": {
            "text/plain": [
              "NYC        8.3\n",
              "LA         3.9\n",
              "Chicago    2.7\n",
              "Houston    2.3\n",
              "Phoenix    1.6\n",
              "SD         1.4\n",
              "dtype: float64"
            ]
          },
          "metadata": {
            "tags": []
          },
          "execution_count": 57
        }
      ]
    },
    {
      "cell_type": "markdown",
      "metadata": {
        "id": "OkZdl-NXegfX"
      },
      "source": [
        "To label this as population, let's put it in a dataframe and make the columns \"population\"\n",
        "\n",
        "A dataframe is just a way to concatenate multiple Series next to each other to create a table\n",
        "\n",
        "See the second image (the one with apples and oranges as column headers) here:https://www.learndatasci.com/tutorials/python-pandas-tutorial-complete-introduction-for-beginners/"
      ]
    },
    {
      "cell_type": "code",
      "metadata": {
        "id": "1GPGU4qY6-Fb"
      },
      "source": [
        "dframe1 = pd.DataFrame(ser3,columns=['Population'])"
      ],
      "execution_count": 58,
      "outputs": []
    },
    {
      "cell_type": "code",
      "metadata": {
        "id": "ELRfoP2C7Cc5",
        "colab": {
          "base_uri": "https://localhost:8080/"
        },
        "outputId": "0bce7055-957f-4fe7-de31-683475838267"
      },
      "source": [
        "print(dframe1)"
      ],
      "execution_count": 59,
      "outputs": [
        {
          "output_type": "stream",
          "text": [
            "         Population\n",
            "NYC             8.3\n",
            "LA              3.9\n",
            "Chicago         2.7\n",
            "Houston         2.3\n",
            "Phoenix         1.6\n",
            "SD              1.4\n"
          ],
          "name": "stdout"
        }
      ]
    },
    {
      "cell_type": "markdown",
      "metadata": {
        "id": "MK0RcLFknAyY"
      },
      "source": [
        "You can access specific values from this dataframe by first putting in the column name, then the index"
      ]
    },
    {
      "cell_type": "code",
      "metadata": {
        "id": "CZOXjXP2m6wE",
        "colab": {
          "base_uri": "https://localhost:8080/",
          "height": 725
        },
        "outputId": "5597914f-aaed-4dc8-f270-15b15722dd1b"
      },
      "source": [
        "print(dframe1['Population'])\n",
        "print(dframe1['Population']['NYC'])\n",
        "print(dframe1['Population'][0])\n",
        "print(dframe1[0][0]) # will this last one work? <- this is one difference between a 2d array and a dataframe"
      ],
      "execution_count": 60,
      "outputs": [
        {
          "output_type": "stream",
          "text": [
            "NYC        8.3\n",
            "LA         3.9\n",
            "Chicago    2.7\n",
            "Houston    2.3\n",
            "Phoenix    1.6\n",
            "SD         1.4\n",
            "Name: Population, dtype: float64\n",
            "8.3\n",
            "8.3\n"
          ],
          "name": "stdout"
        },
        {
          "output_type": "error",
          "ename": "KeyError",
          "evalue": "ignored",
          "traceback": [
            "\u001b[0;31m---------------------------------------------------------------------------\u001b[0m",
            "\u001b[0;31mKeyError\u001b[0m                                  Traceback (most recent call last)",
            "\u001b[0;32m/usr/local/lib/python3.7/dist-packages/pandas/core/indexes/base.py\u001b[0m in \u001b[0;36mget_loc\u001b[0;34m(self, key, method, tolerance)\u001b[0m\n\u001b[1;32m   2897\u001b[0m             \u001b[0;32mtry\u001b[0m\u001b[0;34m:\u001b[0m\u001b[0;34m\u001b[0m\u001b[0;34m\u001b[0m\u001b[0m\n\u001b[0;32m-> 2898\u001b[0;31m                 \u001b[0;32mreturn\u001b[0m \u001b[0mself\u001b[0m\u001b[0;34m.\u001b[0m\u001b[0m_engine\u001b[0m\u001b[0;34m.\u001b[0m\u001b[0mget_loc\u001b[0m\u001b[0;34m(\u001b[0m\u001b[0mcasted_key\u001b[0m\u001b[0;34m)\u001b[0m\u001b[0;34m\u001b[0m\u001b[0;34m\u001b[0m\u001b[0m\n\u001b[0m\u001b[1;32m   2899\u001b[0m             \u001b[0;32mexcept\u001b[0m \u001b[0mKeyError\u001b[0m \u001b[0;32mas\u001b[0m \u001b[0merr\u001b[0m\u001b[0;34m:\u001b[0m\u001b[0;34m\u001b[0m\u001b[0;34m\u001b[0m\u001b[0m\n",
            "\u001b[0;32mpandas/_libs/index.pyx\u001b[0m in \u001b[0;36mpandas._libs.index.IndexEngine.get_loc\u001b[0;34m()\u001b[0m\n",
            "\u001b[0;32mpandas/_libs/index.pyx\u001b[0m in \u001b[0;36mpandas._libs.index.IndexEngine.get_loc\u001b[0;34m()\u001b[0m\n",
            "\u001b[0;32mpandas/_libs/hashtable_class_helper.pxi\u001b[0m in \u001b[0;36mpandas._libs.hashtable.PyObjectHashTable.get_item\u001b[0;34m()\u001b[0m\n",
            "\u001b[0;32mpandas/_libs/hashtable_class_helper.pxi\u001b[0m in \u001b[0;36mpandas._libs.hashtable.PyObjectHashTable.get_item\u001b[0;34m()\u001b[0m\n",
            "\u001b[0;31mKeyError\u001b[0m: 0",
            "\nThe above exception was the direct cause of the following exception:\n",
            "\u001b[0;31mKeyError\u001b[0m                                  Traceback (most recent call last)",
            "\u001b[0;32m<ipython-input-60-0df214334933>\u001b[0m in \u001b[0;36m<module>\u001b[0;34m()\u001b[0m\n\u001b[1;32m      2\u001b[0m \u001b[0mprint\u001b[0m\u001b[0;34m(\u001b[0m\u001b[0mdframe1\u001b[0m\u001b[0;34m[\u001b[0m\u001b[0;34m'Population'\u001b[0m\u001b[0;34m]\u001b[0m\u001b[0;34m[\u001b[0m\u001b[0;34m'NYC'\u001b[0m\u001b[0;34m]\u001b[0m\u001b[0;34m)\u001b[0m\u001b[0;34m\u001b[0m\u001b[0;34m\u001b[0m\u001b[0m\n\u001b[1;32m      3\u001b[0m \u001b[0mprint\u001b[0m\u001b[0;34m(\u001b[0m\u001b[0mdframe1\u001b[0m\u001b[0;34m[\u001b[0m\u001b[0;34m'Population'\u001b[0m\u001b[0;34m]\u001b[0m\u001b[0;34m[\u001b[0m\u001b[0;36m0\u001b[0m\u001b[0;34m]\u001b[0m\u001b[0;34m)\u001b[0m\u001b[0;34m\u001b[0m\u001b[0;34m\u001b[0m\u001b[0m\n\u001b[0;32m----> 4\u001b[0;31m \u001b[0mprint\u001b[0m\u001b[0;34m(\u001b[0m\u001b[0mdframe1\u001b[0m\u001b[0;34m[\u001b[0m\u001b[0;36m0\u001b[0m\u001b[0;34m]\u001b[0m\u001b[0;34m[\u001b[0m\u001b[0;36m0\u001b[0m\u001b[0;34m]\u001b[0m\u001b[0;34m)\u001b[0m \u001b[0;31m# will this last one work? <- this is one difference between a 2d array and a dataframe\u001b[0m\u001b[0;34m\u001b[0m\u001b[0;34m\u001b[0m\u001b[0m\n\u001b[0m",
            "\u001b[0;32m/usr/local/lib/python3.7/dist-packages/pandas/core/frame.py\u001b[0m in \u001b[0;36m__getitem__\u001b[0;34m(self, key)\u001b[0m\n\u001b[1;32m   2904\u001b[0m             \u001b[0;32mif\u001b[0m \u001b[0mself\u001b[0m\u001b[0;34m.\u001b[0m\u001b[0mcolumns\u001b[0m\u001b[0;34m.\u001b[0m\u001b[0mnlevels\u001b[0m \u001b[0;34m>\u001b[0m \u001b[0;36m1\u001b[0m\u001b[0;34m:\u001b[0m\u001b[0;34m\u001b[0m\u001b[0;34m\u001b[0m\u001b[0m\n\u001b[1;32m   2905\u001b[0m                 \u001b[0;32mreturn\u001b[0m \u001b[0mself\u001b[0m\u001b[0;34m.\u001b[0m\u001b[0m_getitem_multilevel\u001b[0m\u001b[0;34m(\u001b[0m\u001b[0mkey\u001b[0m\u001b[0;34m)\u001b[0m\u001b[0;34m\u001b[0m\u001b[0;34m\u001b[0m\u001b[0m\n\u001b[0;32m-> 2906\u001b[0;31m             \u001b[0mindexer\u001b[0m \u001b[0;34m=\u001b[0m \u001b[0mself\u001b[0m\u001b[0;34m.\u001b[0m\u001b[0mcolumns\u001b[0m\u001b[0;34m.\u001b[0m\u001b[0mget_loc\u001b[0m\u001b[0;34m(\u001b[0m\u001b[0mkey\u001b[0m\u001b[0;34m)\u001b[0m\u001b[0;34m\u001b[0m\u001b[0;34m\u001b[0m\u001b[0m\n\u001b[0m\u001b[1;32m   2907\u001b[0m             \u001b[0;32mif\u001b[0m \u001b[0mis_integer\u001b[0m\u001b[0;34m(\u001b[0m\u001b[0mindexer\u001b[0m\u001b[0;34m)\u001b[0m\u001b[0;34m:\u001b[0m\u001b[0;34m\u001b[0m\u001b[0;34m\u001b[0m\u001b[0m\n\u001b[1;32m   2908\u001b[0m                 \u001b[0mindexer\u001b[0m \u001b[0;34m=\u001b[0m \u001b[0;34m[\u001b[0m\u001b[0mindexer\u001b[0m\u001b[0;34m]\u001b[0m\u001b[0;34m\u001b[0m\u001b[0;34m\u001b[0m\u001b[0m\n",
            "\u001b[0;32m/usr/local/lib/python3.7/dist-packages/pandas/core/indexes/base.py\u001b[0m in \u001b[0;36mget_loc\u001b[0;34m(self, key, method, tolerance)\u001b[0m\n\u001b[1;32m   2898\u001b[0m                 \u001b[0;32mreturn\u001b[0m \u001b[0mself\u001b[0m\u001b[0;34m.\u001b[0m\u001b[0m_engine\u001b[0m\u001b[0;34m.\u001b[0m\u001b[0mget_loc\u001b[0m\u001b[0;34m(\u001b[0m\u001b[0mcasted_key\u001b[0m\u001b[0;34m)\u001b[0m\u001b[0;34m\u001b[0m\u001b[0;34m\u001b[0m\u001b[0m\n\u001b[1;32m   2899\u001b[0m             \u001b[0;32mexcept\u001b[0m \u001b[0mKeyError\u001b[0m \u001b[0;32mas\u001b[0m \u001b[0merr\u001b[0m\u001b[0;34m:\u001b[0m\u001b[0;34m\u001b[0m\u001b[0;34m\u001b[0m\u001b[0m\n\u001b[0;32m-> 2900\u001b[0;31m                 \u001b[0;32mraise\u001b[0m \u001b[0mKeyError\u001b[0m\u001b[0;34m(\u001b[0m\u001b[0mkey\u001b[0m\u001b[0;34m)\u001b[0m \u001b[0;32mfrom\u001b[0m \u001b[0merr\u001b[0m\u001b[0;34m\u001b[0m\u001b[0;34m\u001b[0m\u001b[0m\n\u001b[0m\u001b[1;32m   2901\u001b[0m \u001b[0;34m\u001b[0m\u001b[0m\n\u001b[1;32m   2902\u001b[0m         \u001b[0;32mif\u001b[0m \u001b[0mtolerance\u001b[0m \u001b[0;32mis\u001b[0m \u001b[0;32mnot\u001b[0m \u001b[0;32mNone\u001b[0m\u001b[0;34m:\u001b[0m\u001b[0;34m\u001b[0m\u001b[0;34m\u001b[0m\u001b[0m\n",
            "\u001b[0;31mKeyError\u001b[0m: 0"
          ]
        }
      ]
    },
    {
      "cell_type": "markdown",
      "metadata": {
        "id": "f_BOy-WJfOb1"
      },
      "source": [
        "Let's add another column to our dataframe. We can do this in multiple different ways. Let's try concatenating multiple dataframes first. We will first create an array\n"
      ]
    },
    {
      "cell_type": "code",
      "metadata": {
        "id": "yadYYj7DnkX6"
      },
      "source": [
        "arr6 = np.array([301,468,227,637,517,301]) # SD should be 325, but I'm putting it as 301 for demonstration\n",
        "print(arr6)"
      ],
      "execution_count": null,
      "outputs": []
    },
    {
      "cell_type": "markdown",
      "metadata": {
        "id": "rSOkrwjLHlef"
      },
      "source": [
        "Before, we typed out our list of cities, but we can quickly get them from the other dataframe\n",
        "\n",
        "Let's create a new list, but this time, we will make sure its the same as the first dataframe. You can do that by calling the index of the dataframe\n",
        "\n",
        "Index, like shape, is an attribute of the dataframe, so it doesn't need parentheses"
      ]
    },
    {
      "cell_type": "code",
      "metadata": {
        "id": "kepF73mZHswE"
      },
      "source": [
        "city_index = dframe1.index\n",
        "print(city_index)"
      ],
      "execution_count": null,
      "outputs": []
    },
    {
      "cell_type": "markdown",
      "metadata": {
        "id": "gNt3UXbUgvi1"
      },
      "source": [
        "Now, let's create our second data frame"
      ]
    },
    {
      "cell_type": "code",
      "metadata": {
        "id": "z_EVzmiBflJs"
      },
      "source": [
        "dframe2 = pd.DataFrame(arr6,index = city_index, columns=['Area']) # data, then index, then columns"
      ],
      "execution_count": null,
      "outputs": []
    },
    {
      "cell_type": "code",
      "metadata": {
        "id": "FPj24CsIfsD_"
      },
      "source": [
        "print(dframe2)"
      ],
      "execution_count": null,
      "outputs": []
    },
    {
      "cell_type": "markdown",
      "metadata": {
        "id": "OtGLRV5_g0vc"
      },
      "source": [
        "Let's put these dataframes together using concat.\n"
      ]
    },
    {
      "cell_type": "code",
      "metadata": {
        "id": "JXU9kRXsfv_Q"
      },
      "source": [
        "cities = pd.concat([dframe1,dframe2],axis=1) # axis is defaulted to 0. Important to specify it as 1\n",
        "print(cities)"
      ],
      "execution_count": null,
      "outputs": []
    },
    {
      "cell_type": "markdown",
      "metadata": {
        "id": "jNOfvkWEoU8F"
      },
      "source": [
        "You could do this with the insert method\n",
        "\n",
        "Note that when using insert, it DOES take the place of the original array, so I would recommend using concat "
      ]
    },
    {
      "cell_type": "code",
      "metadata": {
        "id": "h72iw_42onuH"
      },
      "source": [
        "dframe1.insert(0,'Area',arr6) # (place, name, then the array)"
      ],
      "execution_count": null,
      "outputs": []
    },
    {
      "cell_type": "markdown",
      "metadata": {
        "id": "43eUbWNUecr9"
      },
      "source": [
        "*Why did 'Area' show up before population?* "
      ]
    },
    {
      "cell_type": "markdown",
      "metadata": {
        "id": "FYNAlvxMg6gp"
      },
      "source": [
        "Let's do a few things with this data frame"
      ]
    },
    {
      "cell_type": "code",
      "metadata": {
        "id": "tjDjoj3bkRym"
      },
      "source": [
        "cities.head() ## Really useful for getting a snap shot of the data"
      ],
      "execution_count": null,
      "outputs": []
    },
    {
      "cell_type": "code",
      "metadata": {
        "id": "SuWih1vHkWMW"
      },
      "source": [
        "cities.tail() ## bottom 5 indexes"
      ],
      "execution_count": null,
      "outputs": []
    },
    {
      "cell_type": "code",
      "metadata": {
        "id": "MsQZ--tThi5i"
      },
      "source": [
        "cities['Area']"
      ],
      "execution_count": null,
      "outputs": []
    },
    {
      "cell_type": "code",
      "metadata": {
        "id": "pWAIJB-3hpDM"
      },
      "source": [
        "cities['Area']['NYC']"
      ],
      "execution_count": null,
      "outputs": []
    },
    {
      "cell_type": "markdown",
      "metadata": {
        "id": "8uDDz_jjihEG"
      },
      "source": [
        "We can do similar functions to what we did with arrays"
      ]
    },
    {
      "cell_type": "code",
      "metadata": {
        "id": "rVin3gFQigiY"
      },
      "source": [
        "np.sum(cities)\n",
        "cities.sum()"
      ],
      "execution_count": null,
      "outputs": []
    },
    {
      "cell_type": "code",
      "metadata": {
        "id": "Rrj8LhQfim23"
      },
      "source": [
        "np.average(cities)\n",
        "cities.mean()"
      ],
      "execution_count": null,
      "outputs": []
    },
    {
      "cell_type": "code",
      "metadata": {
        "id": "4fNo23Uijy_x"
      },
      "source": [
        "np.max(cities)\n",
        "cities.max()"
      ],
      "execution_count": null,
      "outputs": []
    },
    {
      "cell_type": "markdown",
      "metadata": {
        "id": "4l0VfeVfDY2n"
      },
      "source": [
        "You could also specify axis here if you want to sum over the columns, but that would just be weird"
      ]
    },
    {
      "cell_type": "code",
      "metadata": {
        "id": "KE0JvAdqDOz8"
      },
      "source": [
        "np.sum(cities,axis=1)"
      ],
      "execution_count": null,
      "outputs": []
    },
    {
      "cell_type": "markdown",
      "metadata": {
        "id": "6AIhARsnps3M"
      },
      "source": [
        "#### We can find the rank of the values within the different columns. "
      ]
    },
    {
      "cell_type": "code",
      "metadata": {
        "id": "5y2roJ0mnTgf"
      },
      "source": [
        "cities.rank()"
      ],
      "execution_count": null,
      "outputs": []
    },
    {
      "cell_type": "markdown",
      "metadata": {
        "id": "BQLOMJ_vp3ur"
      },
      "source": [
        "#### We can sort the indices"
      ]
    },
    {
      "cell_type": "code",
      "metadata": {
        "id": "HsuJdJhNnYgr"
      },
      "source": [
        "cities.sort_index()"
      ],
      "execution_count": null,
      "outputs": []
    },
    {
      "cell_type": "markdown",
      "metadata": {
        "id": "77OoC9MHjA35"
      },
      "source": [
        "#### Describe is also extremely useful and will generally be one of the first things you do when you get a new dataset"
      ]
    },
    {
      "cell_type": "code",
      "metadata": {
        "id": "VUL0T1ptkHWJ"
      },
      "source": [
        "cities.describe()"
      ],
      "execution_count": null,
      "outputs": []
    },
    {
      "cell_type": "code",
      "metadata": {
        "id": "s4nsVs-nKzT1"
      },
      "source": [
        "cities.info()"
      ],
      "execution_count": null,
      "outputs": []
    },
    {
      "cell_type": "markdown",
      "metadata": {
        "id": "DnH2OCdLqTqG"
      },
      "source": [
        "#### It may also be useful to see how many unique values there are"
      ]
    },
    {
      "cell_type": "code",
      "metadata": {
        "id": "el7eEkvMiojP"
      },
      "source": [
        "cities['Area'].unique()"
      ],
      "execution_count": null,
      "outputs": []
    },
    {
      "cell_type": "code",
      "metadata": {
        "id": "NhJxDD2yi5TG"
      },
      "source": [
        "cities['Area'].nunique()"
      ],
      "execution_count": null,
      "outputs": []
    },
    {
      "cell_type": "code",
      "metadata": {
        "id": "kMxMPxayi73I"
      },
      "source": [
        "cities['Area'].value_counts()"
      ],
      "execution_count": null,
      "outputs": []
    },
    {
      "cell_type": "markdown",
      "metadata": {
        "id": "M7KQoZ5SiWDk"
      },
      "source": [
        "#### Just like in the arrays, we can turn these dataframes into boolean values using logical operations"
      ]
    },
    {
      "cell_type": "code",
      "metadata": {
        "id": "oaYolhsYiO9s"
      },
      "source": [
        "cities['Area']>400"
      ],
      "execution_count": null,
      "outputs": []
    },
    {
      "cell_type": "code",
      "metadata": {
        "id": "edDDWyQ3Cy22"
      },
      "source": [
        "cities['Population']>2"
      ],
      "execution_count": null,
      "outputs": []
    },
    {
      "cell_type": "markdown",
      "metadata": {
        "id": "Sb1BvFh_qouE"
      },
      "source": [
        "#### This may be useful if, for example, you just want to see the population of the cities with large areas\n",
        "\n",
        "*What will come out here?*"
      ]
    },
    {
      "cell_type": "code",
      "metadata": {
        "id": "ATX0Yf4XkArl"
      },
      "source": [
        "cities[cities['Area']>400]"
      ],
      "execution_count": null,
      "outputs": []
    },
    {
      "cell_type": "markdown",
      "metadata": {
        "id": "aqzBWEOEquYj"
      },
      "source": [
        "#### Use can of course change the values of things in the dataframe. DataFrames are mutable \n",
        "\n",
        "#### Here, I'm setting that value equal to the column I'm changing, that way, it changes in the original dataframe"
      ]
    },
    {
      "cell_type": "code",
      "metadata": {
        "id": "76_8UEuoq9yC"
      },
      "source": [
        "cities['Population'] = cities['Population']*1000000\n",
        "print(cities)"
      ],
      "execution_count": null,
      "outputs": []
    },
    {
      "cell_type": "markdown",
      "metadata": {
        "id": "6qiLfLzUrtaF"
      },
      "source": [
        "We can pull out just two of the columns in the following way. This will be useful later when we load in a large dataset with many columns, but we only care about a few of those columns"
      ]
    },
    {
      "cell_type": "code",
      "metadata": {
        "id": "1RloYt8HnykU"
      },
      "source": [
        "cities[['Area', 'Population']] "
      ],
      "execution_count": null,
      "outputs": []
    },
    {
      "cell_type": "markdown",
      "metadata": {
        "id": "TnnQld0fDFZc"
      },
      "source": [
        "Finally, let's remove LA from our dataframe. You could do that in a couple ways\n",
        "\n",
        "Drop is probably the easiest"
      ]
    },
    {
      "cell_type": "code",
      "metadata": {
        "id": "y4PIxP--DEns"
      },
      "source": [
        "cities.drop(index='LA')"
      ],
      "execution_count": null,
      "outputs": []
    },
    {
      "cell_type": "markdown",
      "metadata": {
        "id": "Uwh1Fa23D4Xt"
      },
      "source": [
        "You could do something like this, where you create boolean values and find the indices you want to keep"
      ]
    },
    {
      "cell_type": "code",
      "metadata": {
        "id": "FsE7YQg3Dz61"
      },
      "source": [
        "boolean_index = cities['Area']!=468\n",
        "print(boolean_index)"
      ],
      "execution_count": null,
      "outputs": []
    },
    {
      "cell_type": "code",
      "metadata": {
        "id": "IxMPPtJCIT2g"
      },
      "source": [
        "cities2 = cities[boolean_index]\n",
        "print(cities2)"
      ],
      "execution_count": null,
      "outputs": []
    },
    {
      "cell_type": "markdown",
      "metadata": {
        "id": "0noTxhc3r2K0"
      },
      "source": [
        "One last thing that may be useful is to create a pivot table. Pivot tables are extremely helpful for quickly looking at data in excel and we can create them here as well"
      ]
    },
    {
      "cell_type": "code",
      "metadata": {
        "id": "CPkXtGtxfhN8"
      },
      "source": [
        "cities3 = cities2.copy()"
      ],
      "execution_count": null,
      "outputs": []
    },
    {
      "cell_type": "code",
      "metadata": {
        "id": "tdykm8oefjl1"
      },
      "source": [
        "cities3.insert(0,'West Coast?',[0,0,0,1,1])"
      ],
      "execution_count": null,
      "outputs": []
    },
    {
      "cell_type": "code",
      "metadata": {
        "id": "YXEjoLqMfsfL"
      },
      "source": [
        "cities3.head()"
      ],
      "execution_count": null,
      "outputs": []
    },
    {
      "cell_type": "code",
      "metadata": {
        "id": "AgpRo_Cg-q33"
      },
      "source": [
        "new_city_index = cities3.index\n",
        "pivot = pd.pivot_table(cities3,values='Population',index=new_city_index,columns='West Coast?')\n",
        "print(pivot)"
      ],
      "execution_count": null,
      "outputs": []
    },
    {
      "cell_type": "markdown",
      "metadata": {
        "id": "rjQxql_hh1NW"
      },
      "source": [
        "A couple things are pretty obvious - we've keep the indices, are columns are now west coast 0 or 1, and the values in the dataframe are the population. \n",
        "\n",
        "What's not so obvious is that it has taken the mean of these values\n",
        "\n",
        "Let me show you by changing the aggfunc to 'count'"
      ]
    },
    {
      "cell_type": "code",
      "metadata": {
        "id": "hVJiT7GfhwYn"
      },
      "source": [
        "pivot2 = pd.pivot_table(cities3,values='Population',index=new_city_index,columns='West Coast?',aggfunc='count')\n",
        "print(pivot2)"
      ],
      "execution_count": null,
      "outputs": []
    },
    {
      "cell_type": "markdown",
      "metadata": {
        "id": "6ngUYc9PFidF"
      },
      "source": [
        "Below is an example of how we pivot tables would work with a more complex dataset. Below, I've made multiple copies of the cities"
      ]
    },
    {
      "cell_type": "code",
      "metadata": {
        "id": "OLHGVAocF44O"
      },
      "source": [
        "cities_multi = pd.concat([cities3,cities3*.5,cities3*.2,cities3*.01])\n",
        "cities_multi['West Coast?'][cities_multi['West Coast?']>0] = 1 # necessary because those multiplications apply to each number in the dataframe\n",
        "print(cities_multi)"
      ],
      "execution_count": null,
      "outputs": []
    },
    {
      "cell_type": "markdown",
      "metadata": {
        "id": "ZY8gqu7uH5ch"
      },
      "source": [
        "#### Let's change the aggfunc to count to see that now, there are 4 values contributing to that cell in the dataframe"
      ]
    },
    {
      "cell_type": "code",
      "metadata": {
        "id": "vq_cKM6BGxc6"
      },
      "source": [
        "new_city_index2 = cities_multi.index\n",
        "pivot2 = pd.pivot_table(cities_multi,values='Population',index=new_city_index2,columns='West Coast?',aggfunc='count')\n",
        "print(pivot2)"
      ],
      "execution_count": null,
      "outputs": []
    },
    {
      "cell_type": "markdown",
      "metadata": {
        "id": "3EiaCswxICbX"
      },
      "source": [
        "Now we can change it to mean, median, etc to quickly look at how groupings affect our data\n",
        "\n",
        "For example, imagine you ran a study where 10 participants complicated 50 trials of two different conditions. Using a pivot table, you could quickly examine the mean/median for each subject between the different groups"
      ]
    },
    {
      "cell_type": "code",
      "metadata": {
        "id": "UXCkkCCmHU1k"
      },
      "source": [
        "pivot2 = pd.pivot_table(cities_multi,values='Population',index=new_city_index2,columns='West Coast?',aggfunc='median')\n",
        "print(pivot2)\n",
        "print(pivot2.mean())"
      ],
      "execution_count": null,
      "outputs": []
    },
    {
      "cell_type": "markdown",
      "metadata": {
        "id": "Cx1z-R38HYP6"
      },
      "source": [
        "Side note - because these are dataframes, you can do all the stuff above with the pivot table - eg, describe()"
      ]
    },
    {
      "cell_type": "code",
      "metadata": {
        "id": "Qf2vtdYxoZvv"
      },
      "source": [
        "pivot.describe()"
      ],
      "execution_count": null,
      "outputs": []
    },
    {
      "cell_type": "markdown",
      "metadata": {
        "id": "jROEK_ACsbxS"
      },
      "source": [
        "The last thing I want to discuss is that dataframes can do some simple plots"
      ]
    },
    {
      "cell_type": "code",
      "metadata": {
        "id": "AQ1LRN11sULL"
      },
      "source": [
        "cities3.plot() # ylim=[0,5]"
      ],
      "execution_count": null,
      "outputs": []
    },
    {
      "cell_type": "code",
      "metadata": {
        "id": "RS1nuoq4spyj"
      },
      "source": [
        "cities3.plot(kind='box') "
      ],
      "execution_count": null,
      "outputs": []
    },
    {
      "cell_type": "code",
      "metadata": {
        "id": "Y5qbrkCTBUgr"
      },
      "source": [
        "cities3['Area'].plot(kind='hist') # histogram"
      ],
      "execution_count": null,
      "outputs": []
    },
    {
      "cell_type": "markdown",
      "metadata": {
        "id": "clllhed7tPiy"
      },
      "source": [
        "#### Tomorrow, we will discuss way better ways to visualize your data"
      ]
    }
  ]
}