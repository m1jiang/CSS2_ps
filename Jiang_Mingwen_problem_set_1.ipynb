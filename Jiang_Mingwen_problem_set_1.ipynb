{
  "nbformat": 4,
  "nbformat_minor": 0,
  "metadata": {
    "colab": {
      "name": "Jiang_Mingwen_problem_set_1.ipynb",
      "provenance": []
    },
    "kernelspec": {
      "name": "python3",
      "display_name": "Python 3"
    },
    "language_info": {
      "name": "python"
    }
  },
  "cells": [
    {
      "cell_type": "code",
      "metadata": {
        "id": "4kaTxdUAY5qd"
      },
      "source": [
        "import numpy as np\n",
        "import pandas as pd\n",
        "from google.colab import files"
      ],
      "execution_count": 2,
      "outputs": []
    },
    {
      "cell_type": "markdown",
      "metadata": {
        "id": "BRbqqB7Ua7Lv"
      },
      "source": [
        "# Question 1"
      ]
    },
    {
      "cell_type": "code",
      "metadata": {
        "colab": {
          "resources": {
            "http://localhost:8080/nbextensions/google.colab/files.js": {
              "data": "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",
              "ok": true,
              "headers": [
                [
                  "content-type",
                  "application/javascript"
                ]
              ],
              "status": 200,
              "status_text": ""
            }
          },
          "base_uri": "https://localhost:8080/",
          "height": 110
        },
        "id": "tDYT_gD2b9nG",
        "outputId": "d02ca4cc-fdd7-459a-dd57-8143ed18292b"
      },
      "source": [
        "files.upload()"
      ],
      "execution_count": 3,
      "outputs": [
        {
          "output_type": "display_data",
          "data": {
            "text/html": [
              "\n",
              "     <input type=\"file\" id=\"files-6b8b79b5-e07f-4461-85d9-dc24df09132f\" name=\"files[]\" multiple disabled\n",
              "        style=\"border:none\" />\n",
              "     <output id=\"result-6b8b79b5-e07f-4461-85d9-dc24df09132f\">\n",
              "      Upload widget is only available when the cell has been executed in the\n",
              "      current browser session. Please rerun this cell to enable.\n",
              "      </output>\n",
              "      <script src=\"/nbextensions/google.colab/files.js\"></script> "
            ],
            "text/plain": [
              "<IPython.core.display.HTML object>"
            ]
          },
          "metadata": {
            "tags": []
          }
        },
        {
          "output_type": "stream",
          "text": [
            "Saving problem_set_1_data.csv to problem_set_1_data.csv\n"
          ],
          "name": "stdout"
        },
        {
          "output_type": "execute_result",
          "data": {
            "text/plain": [
              "{'problem_set_1_data.csv': b'\\xef\\xbb\\xbfquizzes,attendedClass,finalgrade,final_EXAM,student\\r\\n78.5,1,99.38,46,Linnie\\xc2\\xa0Lietz\\r\\n64.25,0,95.78,45,Mitch\\xc2\\xa0Mustain\\r\\n76.75,0,97.42,41,Salina\\xc2\\xa0Chavera\\r\\n69,1,92.5,38,Kimberely\\xc2\\xa0Conwell\\r\\n64,0,92.5,39,Zack\\xc2\\xa0Burk\\r\\n63,1,89.38,36,Almeda\\xc2\\xa0Rizer\\r\\n73.5,0,95.94,43,Damien\\xc2\\xa0Ellett\\r\\n70.5,0,95,40,Lora\\xc2\\xa0Sobieski\\r\\n78,0,96.36,42,Kieth\\xc2\\xa0Treanor\\r\\n61.25,0,88.28,37,Laverne\\xc2\\xa0Krok\\r\\n69,0,92.73,45,Ernestine\\xc2\\xa0Juan\\r\\n59,0,78.75,33,Jackelyn\\xc2\\xa0Baro\\r\\n65,0,94.84,41,Tiny\\xc2\\xa0Recore\\r\\n61.5,0,85.63,37,Ngan\\xc2\\xa0Hiler\\r\\n73,0,93.13,43,Albertha\\xc2\\xa0Ouk\\r\\n71,1,90.63,40,Mercy\\xc2\\xa0Dugal\\r\\n77,1,101.25,46,Augustine\\xc2\\xa0Clair\\r\\n75.5,0,90.94,41,Krystyna\\xc2\\xa0Barrentine\\r\\n65.5,0,92,38,Jamie\\xc2\\xa0Mcdowell\\r\\n79.5,0,96.06,37,Karole\\xc2\\xa0Mcgraw\\r\\n62.5,0,85.94,34,Dorla\\xc2\\xa0Canaday\\r\\n76.5,0,96.36,44,Fidela\\xc2\\xa0Leonetti\\r\\n57.5,0,85.31,40,Orval\\xc2\\xa0Ortis\\r\\n64,0,85,38,Delma\\xc2\\xa0Roseman\\r\\n72.75,0,96.09,43,Sena\\xc2\\xa0Mcclenton\\r\\n75.5,0,98.13,47,Annalee\\xc2\\xa0Deaton\\r\\n0,0,2.5,0,Shellie\\xc2\\xa0Bowlby\\r\\n75,1,101.25,45,Codi\\xc2\\xa0Whitcher\\r\\n66,0,92.19,41,Gretta\\xc2\\xa0Kunzman\\r\\n74,0,92.5,37,Jaimee\\xc2\\xa0Carl\\r\\n59,0,65,37,Tad\\xc2\\xa0Barrow\\r\\n72.5,0,94.85,45,Dorothy\\xc2\\xa0Rago\\r\\n72,1,94.69,38,Nan\\xc2\\xa0Castro\\r\\n72.5,0,96.25,43,Gidget\\xc2\\xa0Ingerson\\r\\n64,0,90,40,Georgette\\xc2\\xa0Ortega\\r\\n73,0,92.12,38,Diego\\xc2\\xa0Vautour\\r\\n73,1,87.81,33,Fern\\xc2\\xa0Iadarola\\r\\n69,0,95,41,Izetta\\xc2\\xa0Maloy\\r\\n74.5,1,98.13,43,Delilah\\xc2\\xa0Starr\\r\\n75.5,0,95.63,41,Marlin\\xc2\\xa0Abrahamson\\r\\n63,0,80.63,31,Joline\\xc2\\xa0Mccreight\\r\\n77,1,100,43,Maisie\\xc2\\xa0Monti\\r\\n78,0,98.75,44,Bettyann\\xc2\\xa0Watford\\r\\n74,1,99.06,46,Shenna\\xc2\\xa0Tregre\\r\\n68,1,89.38,35,Owen\\xc2\\xa0Meagher\\r\\n70.5,0,87.81,32,Moshe\\xc2\\xa0Dulmage\\r\\n70,1,91.25,38,Carolyne\\xc2\\xa0Soltis\\r\\n78.5,0,104.38,49,Carlene\\xc2\\xa0Zemlicka\\r\\n65,0,84.69,33,Noemi\\xc2\\xa0Stolz\\r\\n53.5,0,86.88,38,Contessa\\xc2\\xa0Ruffin\\r\\n51.5,0,74.69,34,Rebbeca\\xc2\\xa0Gheen\\r\\n75,0,96.56,39,Sherley\\xc2\\xa0Kahl\\r\\n70,0,90,40,Jana\\xc2\\xa0Satterlee\\r\\n77,0,97.5,46,Branden\\xc2\\xa0Vanfossen\\r\\n56,0,71.72,20,Doretha\\xc2\\xa0Ulibarri\\r\\n63.5,0,89.06,40,Lizzette\\xc2\\xa0Derryberry\\r\\n72.5,0,95,42,Shanda\\xc2\\xa0Doi\\r\\n65,0,89.38,35,Winfred\\xc2\\xa0Haug\\r\\n67.5,0,87.81,37,Towanda\\xc2\\xa0Mutchler\\r\\n77,0,96.36,39,Ollie\\xc2\\xa0Freeney\\r\\n74,1,90.94,36,Dulcie\\xc2\\xa0Furtado\\r\\n71,0,96.25,43,Laine\\xc2\\xa0Dowling\\r\\n63,0,80,36,Yon\\xc2\\xa0Rosati\\r\\n75.5,1,93.13,38,Liberty\\xc2\\xa0Elzey\\r\\n70.5,0,91.56,41,Lenard\\xc2\\xa0Soares\\r\\n77.5,0,101.88,46,Tyrone\\xc2\\xa0Kirsch\\r\\n73.5,0,94.69,43,Earnestine\\xc2\\xa0Reese\\r\\n65.5,0,88.79,40,Delphine\\xc2\\xa0Rourke\\r\\n74,0,92.19,40,Ward\\xc2\\xa0Piccolo\\r\\n68.5,0,90.94,39,Neil\\xc2\\xa0Acosta\\r\\n72,0,88.13,34,Jasper\\xc2\\xa0Claudio\\r\\n66,0,88.13,39,Latia\\xc2\\xa0Slagle\\r\\n75.75,0,96.82,41,Viva\\xc2\\xa0Mctaggart\\r\\n65,0,89.38,41,Clayton\\xc2\\xa0Carvalho\\r\\n66,0,88.44,36,Elia\\xc2\\xa0Lamprecht\\r\\n68,0,90.31,40,Tammie\\xc2\\xa0Rochester\\r\\n69.5,0,87.81,31,Concetta\\xc2\\xa0Yanez\\r\\n79,0,93.13,32,Dori\\xc2\\xa0Geier\\r\\n73,1,94.38,42,Min\\xc2\\xa0Peake\\r\\n64.75,0,87.34,38,Twyla\\xc2\\xa0Schuh\\r\\n77,0,97.19,43,Faith\\xc2\\xa0Poulson\\r\\n70.5,0,89.69,38,Stefania\\xc2\\xa0Barnette\\r\\n70.5,0,95.31,41,Delicia\\xc2\\xa0Tay\\r\\n75.5,1,101.25,46,Tamica\\xc2\\xa0Wann\\r\\n74.5,1,94.69,39,Danette\\xc2\\xa0Prisco\\r\\n59,0,86.25,36,Juana\\xc2\\xa0Kerby\\r\\n66.5,0,90,38,Cassandra\\xc2\\xa0Bacchus\\r\\n75.5,0,97.81,44,Babette\\xc2\\xa0Kaina\\r\\n75.5,0,95.63,45,Rey\\xc2\\xa0Paterson\\r\\n77,0,98.75,44,Kimbery\\xc2\\xa0Almaguer\\r\\n79,0,102.19,46,Ingeborg\\xc2\\xa0Ruyle\\r\\n66,0,78.18,34,Alica\\xc2\\xa0Cavallo\\r\\n78,0,95.63,42,Lakia\\xc2\\xa0Kaestner\\r\\n76,0,96.36,41,Hanna\\xc2\\xa0Morell\\r\\n72.5,0,91.25,35,Marguerite\\xc2\\xa0Edelen\\r\\n68.75,0,89.84,32,Nelda\\xc2\\xa0Auzenne\\r\\n73,0,97.5,44,Jeneva\\xc2\\xa0Shores\\r\\n56.5,0,94.14,45,Colton\\xc2\\xa0Say\\r\\n65,0,77.58,31,Lizeth\\xc2\\xa0Drone\\r\\n72,0,91.25,40,Jerrica\\xc2\\xa0Heal\\r\\n66,0,94.38,37,Olene\\xc2\\xa0Polanco\\r\\n77.5,0,98.13,44,Mario\\xc2\\xa0Heckstall\\r\\n59,0,83.64,37,Karlyn\\xc2\\xa0Feldstein\\r\\n78.5,1,100.31,47,Nicolasa\\xc2\\xa0Benn\\r\\n75,0,97.5,46,Clark\\xc2\\xa0Gribble\\r\\n69.75,0,94.22,43,Socorro\\xc2\\xa0Greenblatt\\r\\n56.5,0,89.06,44,Gisele\\xc2\\xa0Rierson\\r\\n48,0,84.52,40,Isreal\\xc2\\xa0Ocegueda\\r\\n61.25,0,86.09,34,Valarie\\xc2\\xa0Saba\\r\\n63,1,89.38,38,Kathryn\\xc2\\xa0Dickens\\r\\n72.5,0,97.81,44,Elfriede\\xc2\\xa0Gothard\\r\\n57.5,0,83.44,34,Elisa\\xc2\\xa0Breen\\r\\n74,0,93.13,37,Kasie\\xc2\\xa0Grasser\\r\\n64,1,93.75,43,Annabelle\\xc2\\xa0Brierly\\r\\n72.5,0,93.75,41,Palma\\xc2\\xa0Tewell\\r\\n76.75,0,99.53,45,Joann\\xc2\\xa0Gersten\\r\\n66.75,0,93.91,44,Stephany\\xc2\\xa0Decaro\\r\\n76.25,1,98.91,44,Dalila\\xc2\\xa0Sonntag\\r\\n51,0,86.72,45,Allegra\\xc2\\xa0Armer\\r\\n72,0,92.19,36,Denae\\xc2\\xa0Mcculley\\r\\n77,0,98.75,41,Venus\\xc2\\xa0Shank\\r\\n54,1,101.07,47,Laila\\xc2\\xa0Daddario\\r\\n69.5,0,90,35,Adalberto\\xc2\\xa0Berube\\r\\n66.5,0,82.12,28,Denice\\xc2\\xa0Hage\\r\\n74,0,97.81,45,Genevieve\\xc2\\xa0Woodfin\\r\\n43.5,0,69.69,29,Emily\\xc2\\xa0Rhymer\\r\\n72,0,90.3,40,Nona\\xc2\\xa0Stelly\\r\\n76.5,0,100.94,45,Denis\\xc2\\xa0Willcox\\r\\n73.5,0,93.28,36,Shane\\xc2\\xa0Conniff\\r\\n72.25,0,90.16,39,Omega\\xc2\\xa0Staab\\r\\n67.5,0,95.94,43,Sade\\xc2\\xa0Byham\\r\\n70,0,93.75,40,Rana\\xc2\\xa0Tatro\\r\\n69.75,1,85.47,33,Clemente\\xc2\\xa0Griner\\r\\n46.5,0,84.29,36,Rosalind\\xc2\\xa0Paulk\\r\\n77,0,97.58,45,Camelia\\xc2\\xa0Clingerman\\r\\n76,0,98.18,43,Karry\\xc2\\xa0Wadley\\r\\n77,0,103.13,48,Brandie\\xc2\\xa0Short\\r\\n71.5,0,87.58,35,Barbar\\xc2\\xa0Ohanlon\\r\\n73.5,1,96.25,40,Claudette\\xc2\\xa0Ownby\\r\\n75.5,0,95.94,43,Arlette\\xc2\\xa0Hornbaker\\r\\n72.5,0,90,35,Vincent\\xc2\\xa0Staub\\r\\n71.25,0,95.91,45,Paul\\xc2\\xa0Ohare\\r\\n77,1,97.5,40,Don\\xc2\\xa0Connell\\r\\n71.75,0,91.72,36,Azucena\\xc2\\xa0Mccue\\r\\n75.5,0,95,44,Pansy\\xc2\\xa0Waite\\r\\n79,0,102.19,47,Evelyne\\xc2\\xa0Tittle\\r\\n72,0,92.81,38,Jaraham Eidda\\r\\n72,0,89.39,38,Desiree\\xc2\\xa0Snellgrove\\r\\n65.5,1,86.25,38,Laurie\\xc2\\xa0Braziel\\r\\n56.5,0,93.1,41,Mireille\\xc2\\xa0Kimball\\r\\n78,1,96.25,38,Shavonda\\xc2\\xa0Oesterling\\r\\n77,1,93.75,40,Cristi\\xc2\\xa0Chae\\r\\n69,0,95,42,Brock\\xc2\\xa0Crocket\\r\\n68.5,0,90,36,Clorinda\\xc2\\xa0Lundblad\\r\\n76,0,99.38,45,Eneida\\xc2\\xa0Chesser\\r\\n78,1,99.38,42,Latarsha\\xc2\\xa0Madore\\r\\n71,0,95.31,41,Margarite\\xc2\\xa0Kaczmarek\\r\\n43.5,0,86.55,39,Dortha\\xc2\\xa0Hollomon\\r\\n60.5,0,91.56,41,Isobel\\xc2\\xa0Hobart\\r\\n77.5,1,100,45,Carlyn\\xc2\\xa0Matson\\r\\n47,0,88.15,33,Estella\\xc2\\xa0Gaumer\\r\\n69.5,0,95.31,44,Phillip\\xc2\\xa0Barnett\\r\\n73.5,1,95.63,39,Les\\xc2\\xa0Shehorn\\r\\n72.5,1,94.38,39,Demarcus\\xc2\\xa0Kenney\\r\\n79,0,102.5,46,Elwanda\\xc2\\xa0Meidinger\\r\\n72,0,90.94,35,Lakisha\\xc2\\xa0Colucci\\r\\n73.5,0,96.25,45,Dana\\xc2\\xa0Malta\\r\\n75.5,0,98.13,44,Sixta\\xc2\\xa0Heyden\\r\\n41,0,69.38,32,Brianne\\xc2\\xa0Broome\\r\\n77,0,101.25,47,Elouise\\xc2\\xa0Weatherholt\\r\\n72,0,92.81,38,Addie\\xc2\\xa0Maharaj'}"
            ]
          },
          "metadata": {
            "tags": []
          },
          "execution_count": 3
        }
      ]
    },
    {
      "cell_type": "code",
      "metadata": {
        "id": "xyWgRBPCaUlY"
      },
      "source": [
        "data = pd.read_csv('problem_set_1_data.csv')"
      ],
      "execution_count": 4,
      "outputs": []
    },
    {
      "cell_type": "code",
      "metadata": {
        "id": "Pqu73kpDaOrD"
      },
      "source": [
        "#Rename the columns to be “quiz_total”, “attended”, “final_grade”, “final_exam”, and “name”\n",
        "data = data.rename(columns ={\"quizzes\":\"quiz_total\",\"attendedClass\":'attended','finalgrade':\"final_grade\",'final_EXAM':'final_exam',\"student\":\"name\"})\n"
      ],
      "execution_count": 5,
      "outputs": []
    },
    {
      "cell_type": "code",
      "metadata": {
        "colab": {
          "base_uri": "https://localhost:8080/"
        },
        "id": "hlvZ18Z5d3hX",
        "outputId": "7d723efc-e058-4aaf-f024-d877192c8666"
      },
      "source": [
        "#Print a “head” and “tail” of the dataframe and a summary of the dataframe. \n",
        "print(data.head())"
      ],
      "execution_count": 6,
      "outputs": [
        {
          "output_type": "stream",
          "text": [
            "   quiz_total  attended  final_grade  final_exam               name\n",
            "0       78.50         1        99.38          46       Linnie Lietz\n",
            "1       64.25         0        95.78          45      Mitch Mustain\n",
            "2       76.75         0        97.42          41     Salina Chavera\n",
            "3       69.00         1        92.50          38  Kimberely Conwell\n",
            "4       64.00         0        92.50          39          Zack Burk\n"
          ],
          "name": "stdout"
        }
      ]
    },
    {
      "cell_type": "code",
      "metadata": {
        "colab": {
          "base_uri": "https://localhost:8080/"
        },
        "id": "qfpTgm8Mgmd9",
        "outputId": "5eae7e5f-af3a-4beb-a4cc-b488b74dd3f2"
      },
      "source": [
        "# print a tail of the dataframe\n",
        "print(data.tail())"
      ],
      "execution_count": 7,
      "outputs": [
        {
          "output_type": "stream",
          "text": [
            "     quiz_total  attended  final_grade  final_exam                 name\n",
            "166        73.5         0        96.25          45           Dana Malta\n",
            "167        75.5         0        98.13          44         Sixta Heyden\n",
            "168        41.0         0        69.38          32       Brianne Broome\n",
            "169        77.0         0       101.25          47  Elouise Weatherholt\n",
            "170        72.0         0        92.81          38        Addie Maharaj\n"
          ],
          "name": "stdout"
        }
      ]
    },
    {
      "cell_type": "code",
      "metadata": {
        "colab": {
          "base_uri": "https://localhost:8080/"
        },
        "id": "6iVjhzq9gojk",
        "outputId": "17734ebe-28d2-4c17-d597-7e31c5dfa489"
      },
      "source": [
        "#print a summary of the dataframe\n",
        "print(data.describe())"
      ],
      "execution_count": 8,
      "outputs": [
        {
          "output_type": "stream",
          "text": [
            "       quiz_total    attended  final_grade  final_exam\n",
            "count  171.000000  171.000000   171.000000  171.000000\n",
            "mean    69.131579    0.192982    91.855380   39.672515\n",
            "std      9.488473    0.395798     9.487795    5.511304\n",
            "min      0.000000    0.000000     2.500000    0.000000\n",
            "25%     65.500000    0.000000    89.380000   37.000000\n",
            "50%     72.000000    0.000000    93.130000   40.000000\n",
            "75%     75.500000    0.000000    96.360000   44.000000\n",
            "max     79.500000    1.000000   104.380000   49.000000\n"
          ],
          "name": "stdout"
        }
      ]
    },
    {
      "cell_type": "markdown",
      "metadata": {
        "id": "fEzyKsQ4h0YY"
      },
      "source": [
        "\n",
        "\n",
        "*   The average of quiz_total means the average score of the total quizzes of the students in the dataframe.\n",
        "*   The average of attended is the percentage of students who attended the class.\n",
        "*   The average of final_grade is the mean point of their final grade recieved.\n",
        "*   The average of fina_exam is the average of points that the students got in the final exam.\n",
        "\n",
        "\n",
        "\n"
      ]
    },
    {
      "cell_type": "markdown",
      "metadata": {
        "id": "uClF2yxjgNwB"
      },
      "source": [
        "# Question 2"
      ]
    },
    {
      "cell_type": "code",
      "metadata": {
        "id": "TBh9PtJvgROw"
      },
      "source": [
        "#a.Subset the data by whether someone attended class"
      ],
      "execution_count": 9,
      "outputs": []
    },
    {
      "cell_type": "code",
      "metadata": {
        "colab": {
          "base_uri": "https://localhost:8080/",
          "height": 195
        },
        "id": "XHYgI3GPgTqx",
        "outputId": "8b878df8-d6a2-4f8b-bf25-59c5a41c0f2d"
      },
      "source": [
        "data.head()"
      ],
      "execution_count": 10,
      "outputs": [
        {
          "output_type": "execute_result",
          "data": {
            "text/html": [
              "<div>\n",
              "<style scoped>\n",
              "    .dataframe tbody tr th:only-of-type {\n",
              "        vertical-align: middle;\n",
              "    }\n",
              "\n",
              "    .dataframe tbody tr th {\n",
              "        vertical-align: top;\n",
              "    }\n",
              "\n",
              "    .dataframe thead th {\n",
              "        text-align: right;\n",
              "    }\n",
              "</style>\n",
              "<table border=\"1\" class=\"dataframe\">\n",
              "  <thead>\n",
              "    <tr style=\"text-align: right;\">\n",
              "      <th></th>\n",
              "      <th>quiz_total</th>\n",
              "      <th>attended</th>\n",
              "      <th>final_grade</th>\n",
              "      <th>final_exam</th>\n",
              "      <th>name</th>\n",
              "    </tr>\n",
              "  </thead>\n",
              "  <tbody>\n",
              "    <tr>\n",
              "      <th>0</th>\n",
              "      <td>78.50</td>\n",
              "      <td>1</td>\n",
              "      <td>99.38</td>\n",
              "      <td>46</td>\n",
              "      <td>Linnie Lietz</td>\n",
              "    </tr>\n",
              "    <tr>\n",
              "      <th>1</th>\n",
              "      <td>64.25</td>\n",
              "      <td>0</td>\n",
              "      <td>95.78</td>\n",
              "      <td>45</td>\n",
              "      <td>Mitch Mustain</td>\n",
              "    </tr>\n",
              "    <tr>\n",
              "      <th>2</th>\n",
              "      <td>76.75</td>\n",
              "      <td>0</td>\n",
              "      <td>97.42</td>\n",
              "      <td>41</td>\n",
              "      <td>Salina Chavera</td>\n",
              "    </tr>\n",
              "    <tr>\n",
              "      <th>3</th>\n",
              "      <td>69.00</td>\n",
              "      <td>1</td>\n",
              "      <td>92.50</td>\n",
              "      <td>38</td>\n",
              "      <td>Kimberely Conwell</td>\n",
              "    </tr>\n",
              "    <tr>\n",
              "      <th>4</th>\n",
              "      <td>64.00</td>\n",
              "      <td>0</td>\n",
              "      <td>92.50</td>\n",
              "      <td>39</td>\n",
              "      <td>Zack Burk</td>\n",
              "    </tr>\n",
              "  </tbody>\n",
              "</table>\n",
              "</div>"
            ],
            "text/plain": [
              "   quiz_total  attended  final_grade  final_exam               name\n",
              "0       78.50         1        99.38          46       Linnie Lietz\n",
              "1       64.25         0        95.78          45      Mitch Mustain\n",
              "2       76.75         0        97.42          41     Salina Chavera\n",
              "3       69.00         1        92.50          38  Kimberely Conwell\n",
              "4       64.00         0        92.50          39          Zack Burk"
            ]
          },
          "metadata": {
            "tags": []
          },
          "execution_count": 10
        }
      ]
    },
    {
      "cell_type": "code",
      "metadata": {
        "id": "39O-rabzpvp4"
      },
      "source": [
        "attend = data[data[\"attended\"]==1]\n",
        "not_attend = data[data['attended']==0]"
      ],
      "execution_count": 11,
      "outputs": []
    },
    {
      "cell_type": "code",
      "metadata": {
        "colab": {
          "base_uri": "https://localhost:8080/"
        },
        "id": "U5NsYdjUp2h2",
        "outputId": "7fcaa4d3-bf7c-4a16-f489-fddc58ab424b"
      },
      "source": [
        "#b.What is the average “quiz_total”, “final_grade”, “final_exam” for those who attended class versus did not attend?\n",
        "\n",
        "print(attend.mean())"
      ],
      "execution_count": 12,
      "outputs": [
        {
          "output_type": "stream",
          "text": [
            "quiz_total     72.500000\n",
            "attended        1.000000\n",
            "final_grade    95.072121\n",
            "final_exam     40.636364\n",
            "dtype: float64\n"
          ],
          "name": "stdout"
        }
      ]
    },
    {
      "cell_type": "code",
      "metadata": {
        "colab": {
          "base_uri": "https://localhost:8080/"
        },
        "id": "ZsnNxlI6qiJk",
        "outputId": "cc002b2e-990e-4338-d91d-b227ad25a22a"
      },
      "source": [
        "print(not_attend.mean())"
      ],
      "execution_count": 13,
      "outputs": [
        {
          "output_type": "stream",
          "text": [
            "quiz_total     68.326087\n",
            "attended        0.000000\n",
            "final_grade    91.086159\n",
            "final_exam     39.442029\n",
            "dtype: float64\n"
          ],
          "name": "stdout"
        }
      ]
    },
    {
      "cell_type": "markdown",
      "metadata": {
        "id": "TcNbd3B6qpEe"
      },
      "source": [
        "The average quiz score of the students who sttended class is 72.5 versus about 68.33 for those who do not attend class.\n",
        "\n",
        "The average final exam for those who attended class is 95 and the students who did not attend was 91. \n",
        "\n",
        "The average final exam score for those who attended class is 40 .63 and those who did not attend is 39.4.\n",
        "\n",
        "Students who attended to class score higher in average than those who did not. "
      ]
    },
    {
      "cell_type": "markdown",
      "metadata": {
        "id": "KP_GX8o1rogH"
      },
      "source": [
        "# Bonus"
      ]
    },
    {
      "cell_type": "code",
      "metadata": {
        "colab": {
          "base_uri": "https://localhost:8080/",
          "height": 106
        },
        "id": "X1SZt-0Frqrm",
        "outputId": "83958b38-a4fc-4451-9c00-9251fc6bc235"
      },
      "source": [
        "#Find the students working together\n",
        "data[data.duplicated(subset=['quiz_total','final_exam','final_grade'],keep=False)]"
      ],
      "execution_count": 33,
      "outputs": [
        {
          "output_type": "execute_result",
          "data": {
            "text/html": [
              "<div>\n",
              "<style scoped>\n",
              "    .dataframe tbody tr th:only-of-type {\n",
              "        vertical-align: middle;\n",
              "    }\n",
              "\n",
              "    .dataframe tbody tr th {\n",
              "        vertical-align: top;\n",
              "    }\n",
              "\n",
              "    .dataframe thead th {\n",
              "        text-align: right;\n",
              "    }\n",
              "</style>\n",
              "<table border=\"1\" class=\"dataframe\">\n",
              "  <thead>\n",
              "    <tr style=\"text-align: right;\">\n",
              "      <th></th>\n",
              "      <th>quiz_total</th>\n",
              "      <th>attended</th>\n",
              "      <th>final_grade</th>\n",
              "      <th>final_exam</th>\n",
              "      <th>name</th>\n",
              "    </tr>\n",
              "  </thead>\n",
              "  <tbody>\n",
              "    <tr>\n",
              "      <th>146</th>\n",
              "      <td>72.0</td>\n",
              "      <td>0</td>\n",
              "      <td>92.81</td>\n",
              "      <td>38</td>\n",
              "      <td>Jaraham Eidda</td>\n",
              "    </tr>\n",
              "    <tr>\n",
              "      <th>170</th>\n",
              "      <td>72.0</td>\n",
              "      <td>0</td>\n",
              "      <td>92.81</td>\n",
              "      <td>38</td>\n",
              "      <td>Addie Maharaj</td>\n",
              "    </tr>\n",
              "  </tbody>\n",
              "</table>\n",
              "</div>"
            ],
            "text/plain": [
              "     quiz_total  attended  final_grade  final_exam           name\n",
              "146        72.0         0        92.81          38  Jaraham Eidda\n",
              "170        72.0         0        92.81          38  Addie Maharaj"
            ]
          },
          "metadata": {
            "tags": []
          },
          "execution_count": 33
        }
      ]
    },
    {
      "cell_type": "code",
      "metadata": {
        "id": "YGA5MfdaaWI3"
      },
      "source": [
        "name  = data.loc[[146,170],['name']]"
      ],
      "execution_count": 88,
      "outputs": []
    },
    {
      "cell_type": "code",
      "metadata": {
        "colab": {
          "base_uri": "https://localhost:8080/"
        },
        "id": "SeeMvfpuu2LZ",
        "outputId": "76e696d7-481e-4069-db5a-ff5ca0f5216c"
      },
      "source": [
        "print(name)"
      ],
      "execution_count": 92,
      "outputs": [
        {
          "output_type": "stream",
          "text": [
            "              name\n",
            "146  Jaraham Eidda\n",
            "170  Addie Maharaj\n"
          ],
          "name": "stdout"
        }
      ]
    },
    {
      "cell_type": "code",
      "metadata": {
        "id": "n_3L_B91u9rY"
      },
      "source": [
        ""
      ],
      "execution_count": null,
      "outputs": []
    }
  ]
}