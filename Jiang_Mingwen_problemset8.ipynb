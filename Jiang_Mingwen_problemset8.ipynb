{
  "nbformat": 4,
  "nbformat_minor": 0,
  "metadata": {
    "colab": {
      "name": "Jiang_Mingwen_problemset8.ipynb",
      "provenance": [],
      "collapsed_sections": []
    },
    "kernelspec": {
      "name": "python3",
      "display_name": "Python 3"
    },
    "language_info": {
      "name": "python"
    }
  },
  "cells": [
    {
      "cell_type": "markdown",
      "metadata": {
        "id": "kW5SznwwkoyS"
      },
      "source": [
        "# 1.Importing Libraries"
      ]
    },
    {
      "cell_type": "code",
      "metadata": {
        "id": "ZKu-BW4zkrto"
      },
      "source": [
        "import seaborn as sns\n",
        "import matplotlib.pyplot as plt\n",
        "import numpy as np\n",
        "import pandas as pd\n",
        "from sklearn import tree\n",
        "from sklearn.model_selection import train_test_split\n",
        "from sklearn.linear_model import LogisticRegression\n",
        "from sklearn import metrics\n",
        "from sklearn.neighbors import KNeighborsClassifier"
      ],
      "execution_count": 1,
      "outputs": []
    },
    {
      "cell_type": "markdown",
      "metadata": {
        "id": "giIppOVUkt7F"
      },
      "source": [
        "# 2.My function"
      ]
    },
    {
      "cell_type": "code",
      "metadata": {
        "id": "ut-ODGsDlIL_"
      },
      "source": [
        "def compare(x,y,plot):\n",
        "  \n",
        "  #creating the values by reshaping x \n",
        "  X = x.reshape((len(np.array(titanic['pclass'])),1))\n",
        "  #using this way similar to the linear regression to split data into training and testing\n",
        "  Xtrain,Xtest,ytrain,ytest = train_test_split(X,y,random_state=1)\n",
        "  #using decision tree classification\n",
        "  tree_model = tree.DecisionTreeClassifier(max_depth=1) \n",
        "  tree_model = tree_model.fit(Xtrain, ytrain)\n",
        "  tree_model.predict(Xtest)\n",
        "\n",
        "  metrics.confusion_matrix(ytest,tree_model.predict(Xtest)) \n",
        "  tn, fp, fn, tp = metrics.confusion_matrix(ytest,tree_model.predict(Xtest)).ravel()\n",
        "  tn, fp, fn, tp = metrics.confusion_matrix(ytrain,tree_model.predict(Xtrain)).ravel()\n",
        "  full_tree_model = tree.DecisionTreeClassifier()\n",
        "  full_tree_model = full_tree_model.fit(Xtrain, ytrain)\n",
        "\n",
        "#if the prediction for test is overfitting, then we will change a method\n",
        "\n",
        "  if abs((full_tree_model.score(Xtrain, ytrain))-full_tree_model.score(Xtest, ytest))>0.1:\n",
        "    knn = KNeighborsClassifier(algorithm = 'brute', n_jobs=-1)\n",
        "    knn.fit(Xtrain, ytrain)\n",
        "    print(\"Overfitting, change a method\")\n",
        "    print(knn.score(Xtrain, ytrain))\n",
        "    print(knn.score(Xtest,ytest))\n",
        "\n",
        "#if the prediction is good then we print the result\n",
        "  elif abs((full_tree_model.score(Xtrain, ytrain))-full_tree_model.score(Xtest, ytest))<=0.1:\n",
        "    print(full_tree_model.score(Xtrain, ytrain))\n",
        "    print(full_tree_model.score(Xtest, ytest))\n",
        "\n",
        "#if the input plot is true then plot the boxplot and ROC plotof X and y \n",
        "  if plot ==True:\n",
        "    fig,axes = plt.subplots(nrows = 1,ncols = 2)\n",
        "    sns.boxplot(y,x,ax = axes[0]) \n",
        "    fpr_tree,tpr_tree,thresholds_tree = metrics.roc_curve(ytest,tree_model.predict_proba(Xtest)[:,1])\n",
        "    sns.lineplot(fpr_tree,tpr_tree,label='ROC plot',ax = axes[1])\n",
        "    sns.lineplot([0,1],[0,1],color=[0,0,0],linestyle=':',ax = axes[1])\n",
        "    plt.xlabel('false positive rate')\n",
        "    plt.ylabel('true positive rate')\n",
        "\n",
        "#if the input is False then simply ignore the plotting and return the result\n",
        "  if plot == False:\n",
        "    return"
      ],
      "execution_count": 6,
      "outputs": []
    },
    {
      "cell_type": "markdown",
      "metadata": {
        "id": "_dIYysWPlb1v"
      },
      "source": [
        "# 3.Loading the dataset"
      ]
    },
    {
      "cell_type": "code",
      "metadata": {
        "id": "AYWag7W3ldvQ"
      },
      "source": [
        "titanic = sns.load_dataset('titanic')"
      ],
      "execution_count": 3,
      "outputs": []
    },
    {
      "cell_type": "markdown",
      "metadata": {
        "id": "SYZLRXf4lj9a"
      },
      "source": [
        "# 4.Applying the function-class"
      ]
    },
    {
      "cell_type": "code",
      "metadata": {
        "colab": {
          "base_uri": "https://localhost:8080/",
          "height": 434
        },
        "id": "Cf1vZjpo2oCy",
        "outputId": "329b89dd-e650-4551-b9bc-58335243818b"
      },
      "source": [
        "compare((np.array(titanic['pclass'])),np.array(titanic['survived']),plot=True)"
      ],
      "execution_count": 4,
      "outputs": [
        {
          "output_type": "stream",
          "text": [
            "0.6826347305389222\n",
            "0.6681614349775785\n"
          ],
          "name": "stdout"
        },
        {
          "output_type": "stream",
          "text": [
            "/usr/local/lib/python3.7/dist-packages/seaborn/_decorators.py:43: FutureWarning: Pass the following variables as keyword args: x, y. From version 0.12, the only valid positional argument will be `data`, and passing other arguments without an explicit keyword will result in an error or misinterpretation.\n",
            "  FutureWarning\n",
            "/usr/local/lib/python3.7/dist-packages/seaborn/_decorators.py:43: FutureWarning: Pass the following variables as keyword args: x, y. From version 0.12, the only valid positional argument will be `data`, and passing other arguments without an explicit keyword will result in an error or misinterpretation.\n",
            "  FutureWarning\n",
            "/usr/local/lib/python3.7/dist-packages/seaborn/_decorators.py:43: FutureWarning: Pass the following variables as keyword args: x, y. From version 0.12, the only valid positional argument will be `data`, and passing other arguments without an explicit keyword will result in an error or misinterpretation.\n",
            "  FutureWarning\n"
          ],
          "name": "stderr"
        },
        {
          "output_type": "display_data",
          "data": {
            "image/png": "[encoded data removed]",
            "text/plain": [
              "<Figure size 432x288 with 2 Axes>"
            ]
          },
          "metadata": {
            "tags": [],
            "needs_background": "light"
          }
        }
      ]
    },
    {
      "cell_type": "markdown",
      "metadata": {
        "id": "3g4u94YqDSad"
      },
      "source": [
        "# 5.Applying the function-fare"
      ]
    },
    {
      "cell_type": "code",
      "metadata": {
        "colab": {
          "base_uri": "https://localhost:8080/",
          "height": 450
        },
        "id": "1UZy0UugDUv3",
        "outputId": "bb21011f-242a-455a-802d-3d477ed5af05"
      },
      "source": [
        "compare((np.array(titanic['fare'])),np.array(titanic['survived']),plot=True)\n",
        "\n",
        "# From this output we can see that for fare our decision tree method does not work so we changed it. \n",
        "#The reason for its overfitting might be the case that the outliers in the dataset according to the boxplot.\n",
        "# The test prediction is the same for both predictor and it could be that the fare to some degree decides the class that you can buy.\n",
        "#I find no difference but would recommend fare for Pat to consider in his trip."
      ],
      "execution_count": 7,
      "outputs": [
        {
          "output_type": "stream",
          "text": [
            "Overfitting, change a method\n",
            "0.7395209580838323\n",
            "0.6681614349775785\n"
          ],
          "name": "stdout"
        },
        {
          "output_type": "stream",
          "text": [
            "/usr/local/lib/python3.7/dist-packages/seaborn/_decorators.py:43: FutureWarning: Pass the following variables as keyword args: x, y. From version 0.12, the only valid positional argument will be `data`, and passing other arguments without an explicit keyword will result in an error or misinterpretation.\n",
            "  FutureWarning\n",
            "/usr/local/lib/python3.7/dist-packages/seaborn/_decorators.py:43: FutureWarning: Pass the following variables as keyword args: x, y. From version 0.12, the only valid positional argument will be `data`, and passing other arguments without an explicit keyword will result in an error or misinterpretation.\n",
            "  FutureWarning\n",
            "/usr/local/lib/python3.7/dist-packages/seaborn/_decorators.py:43: FutureWarning: Pass the following variables as keyword args: x, y. From version 0.12, the only valid positional argument will be `data`, and passing other arguments without an explicit keyword will result in an error or misinterpretation.\n",
            "  FutureWarning\n"
          ],
          "name": "stderr"
        },
        {
          "output_type": "display_data",
          "data": {
            "image/png": "[encoded data removed]",
            "text/plain": [
              "<Figure size 432x288 with 2 Axes>"
            ]
          },
          "metadata": {
            "tags": [],
            "needs_background": "light"
          }
        }
      ]
    },
    {
      "cell_type": "code",
      "metadata": {
        "id": "JbiQlpXrIbzV"
      },
      "source": [
        ""
      ],
      "execution_count": null,
      "outputs": []
    }
  ]
}