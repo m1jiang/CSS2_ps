{
  "nbformat": 4,
  "nbformat_minor": 0,
  "metadata": {
    "colab": {
      "name": "Strict_guide.ipynb",
      "provenance": []
    },
    "kernelspec": {
      "name": "python3",
      "display_name": "Python 3"
    }
  },
  "cells": [
    {
      "cell_type": "markdown",
      "metadata": {
        "id": "pJAOG9inxfwe"
      },
      "source": [
        "Please read through this carefully and follow the rules while answering the problem sets. This not only makes grading easier, but also makes you a more disciplined coder which is a rare commodity in the industry. Failure to comply with these rules will result in deduction of 1 point.\n",
        "\n",
        "Please save your files as .ipynb with the following format:\n",
        "\n",
        "Swan_Garrett_problem_set_1.ipynb\n",
        "\n",
        "That is, lastname_firstname_problem_set_X.ipynb with x = problem set number\n"
      ]
    },
    {
      "cell_type": "code",
      "metadata": {
        "id": "qhnmM-rVuIp8"
      },
      "source": [
        "# All imports in the first block.\n",
        "import numpy as np\n",
        "import pandas as pd"
      ],
      "execution_count": null,
      "outputs": []
    },
    {
      "cell_type": "markdown",
      "metadata": {
        "id": "sJuFNQfQvnxH"
      },
      "source": [
        "#### Each Question must be done on a new block and a markdown specifiying the question number must be put before the code which answers it\n"
      ]
    },
    {
      "cell_type": "markdown",
      "metadata": {
        "id": "YpWASQeCuOnn"
      },
      "source": [
        "## Block 1"
      ]
    },
    {
      "cell_type": "code",
      "metadata": {
        "id": "Ub_POohmujfc"
      },
      "source": [
        "# If the question has no sub parts, you can print the answer directly with an appropriate statement describing it\n",
        "string1 = 'my name is'\n",
        "string2 = 'jeff'\n",
        "\n",
        "ans = string1 + string2\n",
        "print('ans = ', ans)"
      ],
      "execution_count": null,
      "outputs": []
    },
    {
      "cell_type": "markdown",
      "metadata": {
        "id": "ZF0jAiNbv29y"
      },
      "source": [
        "#### If the question has multiple sub parts, use print statements **EXACTLY** like the ones below to partition your code and answers"
      ]
    },
    {
      "cell_type": "markdown",
      "metadata": {
        "id": "yulJyRtuvRVp"
      },
      "source": [
        "## Block 2"
      ]
    },
    {
      "cell_type": "code",
      "metadata": {
        "id": "PSl7tCYNvAPb"
      },
      "source": [
        "# 2a.\n",
        "print('------------ 2a ------------')\n",
        "list1 = [2,5,1]\n",
        "list1_sum = sum(list1)\n",
        "print('sum of list1 = ', list1_sum)\n",
        "# 2b.\n",
        "print('------------ 2b ------------')\n",
        "list1_max = max(list1)\n",
        "print('max of list1 = ', list1_max)\n",
        "# 2c.\n",
        "# .\n",
        "# .\n",
        "# ."
      ],
      "execution_count": null,
      "outputs": []
    },
    {
      "cell_type": "markdown",
      "metadata": {
        "id": "Gd3gnLipwKOK"
      },
      "source": [
        "Other rules:\n",
        "\n",
        "1. Before printing a variable, either describe it or do print('var = ', var)\n",
        "2. More comments are better than no comments\n",
        "3. Place all import statements at the top\n",
        "4. Longer sensible variable names are waaaay better than short ones.\n",
        "For example, new_total_bill is waaaaay better than ntb or new_bill or new_tb\n",
        "5. Anyone can write code, but writing beautiful readable code will take you places.\n",
        "6. If you feel lazy writing a docstring for functions, check this out: [networkx](https://networkx.github.io/documentation/stable/_modules/networkx/algorithms/boundary.html#edge_boundary)"
      ]
    }
  ]
}