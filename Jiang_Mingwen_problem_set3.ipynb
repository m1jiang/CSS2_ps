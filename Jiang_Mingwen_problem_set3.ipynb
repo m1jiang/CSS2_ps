{
  "nbformat": 4,
  "nbformat_minor": 0,
  "metadata": {
    "colab": {
      "name": "Jiang_Mingwen_problem_set3.ipynb",
      "provenance": [],
      "collapsed_sections": []
    },
    "kernelspec": {
      "name": "python3",
      "display_name": "Python 3"
    },
    "language_info": {
      "name": "python"
    }
  },
  "cells": [
    {
      "cell_type": "code",
      "metadata": {
        "id": "sf8hAKVDpP9W"
      },
      "source": [
        "import pandas as pd\n",
        "import numpy as np\n"
      ],
      "execution_count": 221,
      "outputs": []
    },
    {
      "cell_type": "code",
      "metadata": {
        "id": "T5dy22_2pa7l"
      },
      "source": [
        "import requests"
      ],
      "execution_count": 222,
      "outputs": []
    },
    {
      "cell_type": "markdown",
      "metadata": {
        "id": "6gt1LbOypisO"
      },
      "source": [
        "# Web scrapping"
      ]
    },
    {
      "cell_type": "code",
      "metadata": {
        "id": "sJdz0zRnpqZ2"
      },
      "source": [
        "data = pd.read_html('https://en.wikipedia.org/wiki/MonsterVerse')"
      ],
      "execution_count": 223,
      "outputs": []
    },
    {
      "cell_type": "code",
      "metadata": {
        "id": "TmJ3-ZKCp4ma"
      },
      "source": [
        "table = data[3]"
      ],
      "execution_count": 224,
      "outputs": []
    },
    {
      "cell_type": "markdown",
      "metadata": {
        "id": "qJEcRJq8rt0J"
      },
      "source": [
        "# Cleaning up table"
      ]
    },
    {
      "cell_type": "code",
      "metadata": {
        "colab": {
          "base_uri": "https://localhost:8080/",
          "height": 254
        },
        "id": "Q2OeZtmHvZIH",
        "outputId": "d312b7ae-c168-45f7-8e9a-bcbba068fa08"
      },
      "source": [
        "table.head()"
      ],
      "execution_count": 225,
      "outputs": [
        {
          "output_type": "execute_result",
          "data": {
            "text/html": [
              "<div>\n",
              "<style scoped>\n",
              "    .dataframe tbody tr th:only-of-type {\n",
              "        vertical-align: middle;\n",
              "    }\n",
              "\n",
              "    .dataframe tbody tr th {\n",
              "        vertical-align: top;\n",
              "    }\n",
              "\n",
              "    .dataframe thead tr th {\n",
              "        text-align: left;\n",
              "    }\n",
              "</style>\n",
              "<table border=\"1\" class=\"dataframe\">\n",
              "  <thead>\n",
              "    <tr>\n",
              "      <th></th>\n",
              "      <th>Character</th>\n",
              "      <th colspan=\"4\" halign=\"left\">Films</th>\n",
              "    </tr>\n",
              "    <tr>\n",
              "      <th></th>\n",
              "      <th>Character</th>\n",
              "      <th>Godzilla</th>\n",
              "      <th>Kong:Skull Island</th>\n",
              "      <th>Godzilla:King of the Monsters</th>\n",
              "      <th>Godzilla vs. Kong</th>\n",
              "    </tr>\n",
              "    <tr>\n",
              "      <th></th>\n",
              "      <th>Monsters</th>\n",
              "      <th>Monsters</th>\n",
              "      <th>Monsters</th>\n",
              "      <th>Monsters</th>\n",
              "      <th>Monsters</th>\n",
              "    </tr>\n",
              "  </thead>\n",
              "  <tbody>\n",
              "    <tr>\n",
              "      <th>0</th>\n",
              "      <td>Godzilla</td>\n",
              "      <td>T.J. StormS</td>\n",
              "      <td>Pictured with archive audio</td>\n",
              "      <td>T.J. StormS</td>\n",
              "      <td>CGI</td>\n",
              "    </tr>\n",
              "    <tr>\n",
              "      <th>1</th>\n",
              "      <td>MUTO</td>\n",
              "      <td>Matt CrossSLee RossS</td>\n",
              "      <td>NaN</td>\n",
              "      <td>CGI</td>\n",
              "      <td>Archive footage</td>\n",
              "    </tr>\n",
              "    <tr>\n",
              "      <th>2</th>\n",
              "      <td>King Kong</td>\n",
              "      <td>NaN</td>\n",
              "      <td>Terry NotarySToby KebbellS</td>\n",
              "      <td>Archive footage</td>\n",
              "      <td>Eric PeteyS[57]</td>\n",
              "    </tr>\n",
              "    <tr>\n",
              "      <th>3</th>\n",
              "      <td>King Ghidorah</td>\n",
              "      <td>NaN</td>\n",
              "      <td>Pictured</td>\n",
              "      <td>Jason LilesSAlan MaxsonSRichard DortonS</td>\n",
              "      <td>Archive footage</td>\n",
              "    </tr>\n",
              "    <tr>\n",
              "      <th>4</th>\n",
              "      <td>Rodan</td>\n",
              "      <td>NaN</td>\n",
              "      <td>Pictured</td>\n",
              "      <td>Jason LilesS</td>\n",
              "      <td>Archive footage</td>\n",
              "    </tr>\n",
              "  </tbody>\n",
              "</table>\n",
              "</div>"
            ],
            "text/plain": [
              "       Character  ...             Films\n",
              "       Character  ... Godzilla vs. Kong\n",
              "        Monsters  ...          Monsters\n",
              "0       Godzilla  ...               CGI\n",
              "1           MUTO  ...   Archive footage\n",
              "2      King Kong  ...   Eric PeteyS[57]\n",
              "3  King Ghidorah  ...   Archive footage\n",
              "4          Rodan  ...   Archive footage\n",
              "\n",
              "[5 rows x 5 columns]"
            ]
          },
          "metadata": {
            "tags": []
          },
          "execution_count": 225
        }
      ]
    },
    {
      "cell_type": "code",
      "metadata": {
        "id": "y2IvMI6HvwxV"
      },
      "source": [
        "## change the columns names\n",
        "new_columns = []\n",
        "for i in table.columns:\n",
        "  new_columns.append(i[1])\n",
        "\n",
        "table.columns = new_columns"
      ],
      "execution_count": 226,
      "outputs": []
    },
    {
      "cell_type": "code",
      "metadata": {
        "id": "uHoyZ5sRr1un"
      },
      "source": [
        "#alter the index names and then drop the column\n",
        "table.index = table[table.columns[0]]\n",
        "table = table.drop(columns = table.columns[0])"
      ],
      "execution_count": 227,
      "outputs": []
    },
    {
      "cell_type": "code",
      "metadata": {
        "id": "F6a7NOnqumK1"
      },
      "source": [
        "#drop the row with duplicate value humans\n",
        "table= table[table.index != table[table.columns[(1)]].values]"
      ],
      "execution_count": 228,
      "outputs": []
    },
    {
      "cell_type": "markdown",
      "metadata": {
        "id": "0onV6kKGAKcf"
      },
      "source": [
        "# Saving the file"
      ]
    },
    {
      "cell_type": "code",
      "metadata": {
        "id": "B7SRucAJASQe"
      },
      "source": [
        "table.to_csv('cleaned dataframe',sep = '\\t')"
      ],
      "execution_count": 232,
      "outputs": []
    }
  ]
}